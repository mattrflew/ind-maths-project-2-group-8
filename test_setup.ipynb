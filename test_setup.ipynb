{
 "cells": [
  {
   "cell_type": "code",
   "execution_count": 41,
   "metadata": {},
   "outputs": [],
   "source": [
    "import importlib\n",
    "\n",
    "import matplotlib.pyplot as plt\n",
    "import numpy as np\n",
    "from IPython.display import display, clear_output\n",
    "import matplotlib.animation as animation\n",
    "from matplotlib.animation import FuncAnimation\n"
   ]
  },
  {
   "cell_type": "markdown",
   "metadata": {},
   "source": [
    "## Testing how we can set up the domain for the tests\n",
    "\n",
    "#### Birds\n",
    "Need to consider\n",
    "- Flock size\n",
    "- Flock shape (V-shape?)\n",
    "- Spacing between birds\n",
    "- Number of birds\n",
    "\n",
    "\n",
    "\n",
    "#### Obstacles\n",
    "Need to consider\n",
    "- Number of obstaces\n",
    "- Spacing of obstacles\n",
    "- Grid type (even across/offset)\n",
    "- "
   ]
  },
  {
   "cell_type": "markdown",
   "metadata": {},
   "source": [
    "# Bird Flocks\n",
    "\n",
    "- Average length is 0.64m\n",
    "- Wingspan is 137.5cm\n",
    "\n",
    "Let's assume they want at least 2 m between the center of each bird\n",
    "\n",
    "Assume that birds fly in lines with a slight V-formation"
   ]
  },
  {
   "cell_type": "markdown",
   "metadata": {},
   "source": [
    "Old functions"
   ]
  },
  {
   "cell_type": "code",
   "execution_count": 42,
   "metadata": {},
   "outputs": [],
   "source": [
    "def add_noise_theta(theta, eta, N):\n",
    "    '''\n",
    "    Update theta with a random amount of noise between -eta/2 and eta/2\n",
    "    '''\n",
    "    theta += eta * (np.random.rand(N, 1) - 0.5)\n",
    "    \n",
    "    return theta\n",
    "\n",
    "def initialize_birds_random(N, L, v0):\n",
    "    '''\n",
    "    Set initial positions, direction, and velocities \n",
    "    '''\n",
    "    # Bird positions\n",
    "    x = np.random.rand(N, 1)*L\n",
    "    y = np.random.rand(N, 1)*L\n",
    "\n",
    "    # Bird velocities\n",
    "    theta = 2 * np.pi * np.random.rand(N, 1)\n",
    "    vx = v0 * np.cos(theta)\n",
    "    vy = v0 * np.sin(theta)\n",
    "\n",
    "    return x, y, vx, vy, theta\n",
    "\n",
    "\n",
    "def initialize_birds_square(N, L, v0, theta_start, eta):\n",
    "    '''\n",
    "    Set initial positions as a uniform placement starting at the edge of the box.\n",
    "    Set direction and velocity to be uniform with a small amount of noise \n",
    "    '''\n",
    "    \n",
    "    # Set bird initial flock as a square\n",
    "    N_per_side = int(np.sqrt(N))\n",
    "    \n",
    "    # Midpoint of area \n",
    "    midpoint = L//2\n",
    "    \n",
    "    # Define the x locations (start in centre of perimeter)\n",
    "    half_length = N_per_side // 2\n",
    "    start = midpoint - half_length\n",
    "    x_locs = np.arange(start, start + N_per_side)\n",
    "    \n",
    "    # Define the y locations (start from bottom)\n",
    "    y_locs = np.arange(0, N_per_side)\n",
    "    \n",
    "    # Define bird starting points\n",
    "    # Initialise lists\n",
    "    x = []\n",
    "    y = []\n",
    "    \n",
    "    for x_loc in x_locs:\n",
    "        for y_loc in y_locs:\n",
    "            x.append([x_loc])\n",
    "            y.append([y_loc])\n",
    "    \n",
    "    # Turn into numpy arrays\n",
    "    x = np.array(x, dtype=float)\n",
    "    y = np.array(y, dtype=float)\n",
    "    \n",
    "    # Bird Angle\n",
    "    # Make all birds same starting angle\n",
    "    theta = np.ones((len(x),1))*theta_start\n",
    "    \n",
    "    # Add noise\n",
    "    theta = add_noise_theta(theta, eta, N)\n",
    "    \n",
    "    \n",
    "    # Bird velocities\n",
    "    vx = v0 * np.cos(theta)\n",
    "    vy = v0 * np.sin(theta)\n",
    "    \n",
    "    \n",
    "    return x, y, vx, vy, theta"
   ]
  },
  {
   "cell_type": "markdown",
   "metadata": {},
   "source": [
    "Triangle flock shape"
   ]
  },
  {
   "cell_type": "code",
   "execution_count": 43,
   "metadata": {},
   "outputs": [],
   "source": [
    "def initialize_birds_triangle(N, L, v0, theta_start, eta):\n",
    "    '''\n",
    "    Set initial positions as a triangle starting at the bottome edge of the simulation box.\n",
    "    Set direction and velocity to be uniform with a small amount of noise \n",
    "    \n",
    "    Triangle is shaped based on an angle (be an obstuse angle). Make it an obtuse isoceles triangle\n",
    "    Birds should spaced by 2 m in both the x and y directions\n",
    "    '''\n",
    "    min_distance = 2\n",
    "    top_angle = np.radians(150)\n",
    "\n",
    "    # Properties of obtuse isoceles triangle\n",
    "    bottom_angle = (np.pi - top_angle)/2\n",
    "\n",
    "    # Initialise parameters and lists\n",
    "    x, y = [], []\n",
    "    total_birds = 0\n",
    "    row = 0\n",
    "    x_row_0 = L // 2\n",
    "\n",
    "    # Loop through rows of triangle, starting with 1 in first row. \n",
    "\n",
    "    while total_birds < N:\n",
    "        # y position of this row\n",
    "        y_pos = -row * min_distance\n",
    "\n",
    "        # base length of triangle in this row\n",
    "        base_length = 2*abs(y_pos) / np.tan(bottom_angle)\n",
    "        half_base = base_length/2\n",
    "        \n",
    "        # number of birds that can fit in the current row\n",
    "        birds_in_row = int(base_length / min_distance) + 1\n",
    "\n",
    "        # limit the number of birds in the row if total exceeds N\n",
    "        if total_birds + birds_in_row > N:\n",
    "            birds_in_row = N - total_birds\n",
    "        \n",
    "        # add birds around the symmetric line of triangle\n",
    "        # go from left to right\n",
    "        x_row_start = x_row_0 - half_base\n",
    "        \n",
    "        for i in range(birds_in_row):\n",
    "            x.append(x_row_start + (i * min_distance))\n",
    "            y.append(y_pos)\n",
    "        \n",
    "        # update total birds and row counters\n",
    "        total_birds += birds_in_row\n",
    "        row += 1\n",
    "\n",
    "    # Turn into numpy arrays\n",
    "    x = np.array(x, dtype=float)\n",
    "    y = np.array(y, dtype=float)\n",
    "    \n",
    "    # shift all y_pos up so birds start within the domain\n",
    "    y = y + (row-1)*min_distance\n",
    "\n",
    "    # Bird Angle\n",
    "    # Make all birds the same starting angle\n",
    "    theta = np.ones((len(x), 1)) * theta_start\n",
    "\n",
    "    # Add noise to angle\n",
    "    theta = add_noise_theta(theta, eta, N)\n",
    "\n",
    "    # Bird velocities\n",
    "    vx = v0 * np.cos(theta)\n",
    "    vy = v0 * np.sin(theta)\n",
    "    \n",
    "    return x, y, vx, vy, theta\n"
   ]
  },
  {
   "cell_type": "markdown",
   "metadata": {},
   "source": [
    "Plot it"
   ]
  },
  {
   "cell_type": "code",
   "execution_count": 44,
   "metadata": {},
   "outputs": [
    {
     "data": {
      "text/plain": [
       "<matplotlib.lines.Line2D at 0x1bfbe7088c0>"
      ]
     },
     "execution_count": 44,
     "metadata": {},
     "output_type": "execute_result"
    },
    {
     "data": {
      "image/png": "[encoded data removed]",
      "text/plain": [
       "<Figure size 800x800 with 1 Axes>"
      ]
     },
     "metadata": {},
     "output_type": "display_data"
    }
   ],
   "source": [
    "N = 100\n",
    "L = 100\n",
    "\n",
    "v0 = 1.0      # velocity of birds (constant)\n",
    "eta = 0.5  \n",
    "theta_start = np.pi/2\n",
    "\n",
    "# Set up a figure\n",
    "fig, ax = plt.subplots(figsize = (8,8))\n",
    "\n",
    "\n",
    "# x, y, vx, vy, theta = initialize_birds_square(N, L, v0, theta_start, eta)\n",
    "x, y, vx, vy, theta = initialize_birds_triangle(N, L, v0, theta_start, eta)\n",
    "\n",
    "\n",
    "# Plot initial quivers\n",
    "q = ax.quiver(x, y, vx, vy)\n",
    "\n",
    "# Set figure parameters\n",
    "ax.set(xlim=(0, L), ylim=(0, L))\n",
    "ax.set_aspect('equal')\n",
    "ax.get_xaxis().set_visible(False)\n",
    "ax.get_yaxis().set_visible(False)\n",
    "\n",
    "ax.axvline(L//2)"
   ]
  },
  {
   "cell_type": "markdown",
   "metadata": {},
   "source": [
    "# Make Obstacle grids\n",
    "\n",
    "Could make functions for \n",
    "- Rectangles\n",
    "- Cicles (not realistic in real-world)\n",
    "- Ellipse"
   ]
  },
  {
   "cell_type": "markdown",
   "metadata": {},
   "source": [
    "Function to make rectangular objects"
   ]
  },
  {
   "cell_type": "code",
   "execution_count": 45,
   "metadata": {},
   "outputs": [],
   "source": [
    "def make_rectangular_obstacle(x_centre, y_centre, L1, L2, n=25):\n",
    "    '''\n",
    "    Returns x,y points defining a rectangular-shaped obstacle\n",
    "    '''\n",
    "    \n",
    "    # Number of points per side\n",
    "    points_per_side = n // 4\n",
    "    \n",
    "    # Half lengths for width and height\n",
    "    l1 = L1 / 2\n",
    "    l2 = L2 / 2\n",
    "    \n",
    "    # Corners of the rectangle\n",
    "    top_left = [x_centre - l1, y_centre + l2]\n",
    "    top_right = [x_centre + l1, y_centre + l2]\n",
    "    bottom_left = [x_centre - l1, y_centre - l2]\n",
    "    bottom_right = [x_centre + l1, y_centre - l2]\n",
    "    \n",
    "    # Initialize lists for x and y points\n",
    "    x_points = []\n",
    "    y_points = []\n",
    "    \n",
    "    # Generate points along each side\n",
    "    # Top edge (left to right)\n",
    "    x_points.extend(np.linspace(top_left[0], top_right[0], points_per_side))\n",
    "    y_points.extend([top_left[1]] * points_per_side)\n",
    "    \n",
    "    # Right edge (top to bottom)\n",
    "    x_points.extend([top_right[0]] * points_per_side)\n",
    "    y_points.extend(np.linspace(top_right[1], bottom_right[1], points_per_side))\n",
    "    \n",
    "    # Bottom edge (right to left)\n",
    "    x_points.extend(np.linspace(bottom_right[0], bottom_left[0], points_per_side))\n",
    "    y_points.extend([bottom_left[1]] * points_per_side)\n",
    "    \n",
    "    # Left edge (bottom to top)\n",
    "    x_points.extend([bottom_left[0]] * points_per_side)\n",
    "    y_points.extend(np.linspace(bottom_left[1], top_left[1], points_per_side))\n",
    "    \n",
    "    return x_points, y_points"
   ]
  },
  {
   "cell_type": "markdown",
   "metadata": {},
   "source": [
    "Function to make circular objects"
   ]
  },
  {
   "cell_type": "code",
   "execution_count": 46,
   "metadata": {},
   "outputs": [],
   "source": [
    "def make_circular_obstacle(x_centre, y_centre, R, n=20):\n",
    "    '''\n",
    "    Returns x,y points defining a circular-shaped obstacle\n",
    "    '''\n",
    "    angles = np.linspace(0, 2 * np.pi, n)\n",
    "    \n",
    "    x = x_centre + R*np.cos(angles)\n",
    "    y = y_centre + R*np.sin(angles)\n",
    "    \n",
    "    return x, y"
   ]
  },
  {
   "cell_type": "markdown",
   "metadata": {},
   "source": [
    "Function to make elliptical objects"
   ]
  },
  {
   "cell_type": "code",
   "execution_count": 47,
   "metadata": {},
   "outputs": [],
   "source": [
    "def make_elliptical_obstacle(x_centre, y_centre, Rx, Ry, n=20):\n",
    "    '''\n",
    "    Returns x,y points defining a elliptical-shaped obstacle\n",
    "    '''\n",
    "    angles = np.linspace(0, 2 * np.pi, n)\n",
    "    \n",
    "    x = x_centre + Rx*np.cos(angles)\n",
    "    y = y_centre + Ry*np.sin(angles)\n",
    "    \n",
    "    return x, y"
   ]
  },
  {
   "cell_type": "markdown",
   "metadata": {},
   "source": [
    "# Rectangle Grid\n",
    "\n",
    "<!-- ![](images/grid_spacing_goals.png) -->\n",
    "Trying to make grids that look like this\n",
    "\n",
    "<img src=\"images/grid_spacing_goals.png\" alt=\"Example Plot\" width=\"800\">\n"
   ]
  },
  {
   "cell_type": "code",
   "execution_count": 48,
   "metadata": {},
   "outputs": [],
   "source": [
    "def get_obstacle_rectangle_grid(L, nrows, ncols, x_spacing, y_spacing, offset, beta):\n",
    "    '''\n",
    "    Define a grid of centre points for the obstacles in a rectangle pattern from a pre-specified x and y spacing.\n",
    "    \n",
    "    Considers the top half of the domain to be the \"wind farm area\"\n",
    "    \n",
    "    Makes the grid from the centre of this \"wind farm area\"\n",
    "    \n",
    "    x_spacing, y_spacing -> distances between centre points of obstacles\n",
    "    \n",
    "    offset -> y offset applied to every second column\n",
    "    \n",
    "    beta -> amount of shear applied to angle the grid (in radians). 0 applies no shear.\n",
    "    '''\n",
    "    \n",
    "    # Defining the \"wind farm area\"\n",
    "    # in the x direction it goes from 0 to L\n",
    "    # in the y direction it goes from L/2 to L\n",
    "\n",
    "    # min_x, max_x = L/4, 3*L/4\n",
    "    min_x, max_x = 0, L\n",
    "    min_y, max_y = L/4, L\n",
    "    \n",
    "    midpoint_x = min_x + (max_x - min_x)/2\n",
    "    midpoint_y = min_y + (max_y - min_y)/2\n",
    "    \n",
    "    # Define the grid now\n",
    "    # Centre x and y locations around midlines\n",
    "    total_x_distance = ncols*x_spacing\n",
    "    x_locs = np.arange(min_x, min_x + total_x_distance, x_spacing)\n",
    "    temp_mid = np.mean(x_locs)\n",
    "\n",
    "    x_locs = x_locs + midpoint_x - temp_mid\n",
    "\n",
    "    total_y_distance = nrows*y_spacing\n",
    "    y_locs = np.arange(min_y, min_y + total_y_distance, y_spacing)\n",
    "    temp_mid = np.mean(y_locs)\n",
    "\n",
    "    y_locs = y_locs + midpoint_y - temp_mid\n",
    "    \n",
    "    # Initialise x and y arrays\n",
    "    x_centres, y_centres = [], []\n",
    "    \n",
    "    # Define the grid locations\n",
    "    for i, x in enumerate(x_locs):\n",
    "        for y in y_locs:\n",
    "            x_centres.append(x)\n",
    "            \n",
    "            # Handle the offset\n",
    "            if not i % 2:\n",
    "                y_centres.append(y)\n",
    "            else:\n",
    "                y_centres.append(y + offset)\n",
    "\n",
    "    # Apply the shear (shear to the right)\n",
    "    shear_matrix = np.array([[1, np.tan(beta)],[0, 1]]) # Shear defined here\n",
    "    grid_points = np.stack([x_centres, y_centres], axis=1) # Combine locations together to apply shear\n",
    "    \n",
    "    # Apply the shear\n",
    "    sheared_grid = np.dot(grid_points, shear_matrix.T)\n",
    "\n",
    "    # Split back into separate lists\n",
    "    x_sheared, y_sheared = sheared_grid[:, 0], sheared_grid[:, 1]\n",
    "\n",
    "    # Move x locations back such it is still centered around the symmetric line\n",
    "    current_midpoint = (max(x_sheared) + min(x_sheared))/2\n",
    "    x_offset = midpoint_x - current_midpoint # distance from current centre to desired centre\n",
    "    x_sheared = x_sheared + x_offset\n",
    "    \n",
    "    # Overwrite the variables to return, note that if beta=0 then x_sheared is the same as x_centres, y_sheared is the same as y_centres\n",
    "    x_centres, y_centres = x_sheared, y_sheared\n",
    "    return x_centres, y_centres\n"
   ]
  },
  {
   "cell_type": "markdown",
   "metadata": {},
   "source": [
    "Get list of obstacles"
   ]
  },
  {
   "cell_type": "code",
   "execution_count": 49,
   "metadata": {},
   "outputs": [],
   "source": [
    "def get_obstacles(L, num_obstacles, nrows, ncols, x_spacing, y_spacing, offset, beta, Rx, Ry, n):\n",
    "    '''\n",
    "    Call the obstacle functions and get lists of their x, y points\n",
    "    '''\n",
    "    x_centres, y_centres = get_obstacle_rectangle_grid(L, nrows, ncols, x_spacing, y_spacing, offset, beta)\n",
    "    \n",
    "    # Initalise lists\n",
    "    x_obstacle_list = []\n",
    "    y_obstacle_list = []\n",
    "    \n",
    "    for i in range(num_obstacles):\n",
    "        # Make rectangular obstacles\n",
    "        # x_obs, y_obs = make_rectangular_obstacle(x_centres[i], y_centres[i], L1=10, L2=2, n=25)\n",
    "        # x_obs, y_obs = make_circular_obstacle(x_centres[i], y_centres[i], R=2.5, n=20)\n",
    "        x_obs, y_obs = make_elliptical_obstacle(x_centres[i], y_centres[i], Rx, Ry, n)\n",
    "        \n",
    "        x_obstacle_list.append(x_obs)\n",
    "        y_obstacle_list.append(y_obs)\n",
    "    \n",
    "    # Concatenate lists for analysis\n",
    "    x_obstacle = np.concatenate(x_obstacle_list)\n",
    "    y_obstacle = np.concatenate(y_obstacle_list)\n",
    "    \n",
    "    return x_obstacle_list, y_obstacle_list, x_obstacle, y_obstacle"
   ]
  },
  {
   "cell_type": "markdown",
   "metadata": {},
   "source": [
    "# Plot the obstacles"
   ]
  },
  {
   "cell_type": "code",
   "execution_count": 50,
   "metadata": {},
   "outputs": [
    {
     "data": {
      "image/png": "[encoded data removed]",
      "text/plain": [
       "<Figure size 800x800 with 1 Axes>"
      ]
     },
     "metadata": {},
     "output_type": "display_data"
    }
   ],
   "source": [
    "N = 100\n",
    "L = 100\n",
    "\n",
    "v0 = 1.0      # velocity of birds (constant)\n",
    "eta = 0.5  \n",
    "theta_start = np.pi/2\n",
    "\n",
    "# Set up a figure\n",
    "fig, ax = plt.subplots(figsize = (8,8))\n",
    "\n",
    "# Obstacles\n",
    "num_obstacles = 15\n",
    "nrows = 3\n",
    "ncols = 5\n",
    "\n",
    "x_obstacle_list, y_obstacle_list, x_obstacle, y_obstacle = get_obstacles(L, num_obstacles, nrows, ncols, x_spacing=10, y_spacing=10, offset=0, beta=np.radians(0), Rx=10, Ry=2, n=20)\n",
    "\n",
    "# Plot obstacle(s) - Plot the \"list\" to visualise the different obstaclces properly\n",
    "for xx, yy in zip(x_obstacle_list, y_obstacle_list):\n",
    "    ax.plot(xx, yy, 'r-')\n",
    "\n",
    "\n",
    "# Birds\n",
    "# x, y, vx, vy, theta = initialize_birds_square(N, L, v0, theta_start, eta)\n",
    "x, y, vx, vy, theta = initialize_birds_triangle(N, L, v0, theta_start, eta)\n",
    "\n",
    "\n",
    "# Plot initial quivers\n",
    "q = ax.quiver(x, y, vx, vy)\n",
    "\n",
    "# Set figure parameters\n",
    "ax.set(xlim=(0, L), ylim=(0, L))\n",
    "ax.set_aspect('equal')\n",
    "ax.get_xaxis().set_visible(False)\n",
    "ax.get_yaxis().set_visible(False)\n",
    "\n",
    "# # Save figure\n",
    "# name = 'elliptical'\n",
    "# plt.savefig(f\"images/example_{name}_turbine_test_set_up.png\", dpi=300, bbox_inches='tight')  # "
   ]
  },
  {
   "cell_type": "markdown",
   "metadata": {},
   "source": [
    "# Calculating the area of a wind farm\n",
    "\n",
    "Essentially just trying to get L so we can define the size of the area\n",
    "\n",
    "| **Parameter**                  | **Value**                             | **Unit**   | **Constant (Y/N)** | **Source**                                                                                       |\n",
    "|--------------------------------|---------------------------------------|------------|---------------------|-------------------------------------------------------------------------------------------------|\n",
    "| **Number of Turbines**         | 30-60 (medium-sized wind farms)        | Count      | N                   | Wikipedia, but find something better                                                                                               |\n",
    "| **Rotor Diameter**             | ~100                                  | m          | Y                   | Approximately average                                                                            |\n",
    "| **Rotor Width/Nacelle**        | ~10                                   | m          | Y                   | [Investigation Effects of Different Wind Turbine Designs](https://www.researchgate.net/publication/342643389_Investigation_Effects_of_Different_Wind_Turbine_Designs_on_Air_Flow_and_Generated_Power) |\n",
    "| **Rotor Spacing - Side**       | 3 to 5                                | diameters  | N                   | Masters, Gilbert M (2003)                                                                      |\n",
    "| **Rotor Spacing - Behind**     | 5 to 9                                | diameters  | N                   | Masters, Gilbert M (2003)                                                                      |\n",
    "| **Area of Wind Farm**          | Dependent on the max spacings         | m²         | Y                   | Calculate it                                                                                    |\n",
    "| **Type of Bird**               | Barnacle Goose                        | -          | Y                   | -                                                                                               |\n",
    "| **Number of Birds in Flock**   | A few hundred                         | -          | Y                   | -                                                                                               |\n",
    "| **Size of Bird**               | 0.64 length, 1.375 wingspan           | m          | Y                   | -                                                                                               |\n",
    "| **Spacing Between Birds**      | 2 m between                           | m          | Y                   | -                                                                                               |\n",
    "| **Speed of Birds**             | 17.38 ± 2.08                          | m/s        | Y                   | -                                                                                               |\n",
    "| **Wind Speed**                 | Cut-in: 4, Rated: 13, Cut-out: 25     | m/s        | N                   | [Siemens SWT-6.0-154](https://en.wind-turbine-models.com/turbines/657-siemens-swt-6.0-154)     |\n",
    "| **Wind Direction**             | North                                 | rad        | Y                   | -                                                                                               |\n"
   ]
  },
  {
   "cell_type": "code",
   "execution_count": 51,
   "metadata": {},
   "outputs": [
    {
     "name": "stdout",
     "output_type": "stream",
     "text": [
      "7000 6000\n",
      "42000000\n"
     ]
    }
   ],
   "source": [
    "# The maximum parameters in terms of size\n",
    "turbines = 60\n",
    "diameter = 100\n",
    "\n",
    "rotor_spacing_side = 5 #5 diameters to the side\n",
    "rotor_spacing_behind = 9 #9 diameters behind\n",
    "\n",
    "# To include the width of rotors and to leave extra space on the sides of analysis area, have additions to the rotor spacings \n",
    "x_spacing = (rotor_spacing_side + 2)*diameter\n",
    "y_spacing = (rotor_spacing_behind + 1)*diameter\n",
    "\n",
    "# Let's consider the rectangular grid of 6 rows x 10 columns\n",
    "nrows = 6\n",
    "ncols = 10\n",
    "\n",
    "x_dimension = ncols*x_spacing\n",
    "y_dimension = nrows*y_spacing\n",
    "\n",
    "print(x_dimension,y_dimension)\n",
    "\n",
    "print(x_dimension*y_dimension)"
   ]
  },
  {
   "cell_type": "markdown",
   "metadata": {},
   "source": [
    "## Try plotting the scenario"
   ]
  },
  {
   "cell_type": "code",
   "execution_count": 52,
   "metadata": {},
   "outputs": [
    {
     "data": {
      "image/png": "[encoded data removed]",
      "text/plain": [
       "<Figure size 800x800 with 1 Axes>"
      ]
     },
     "metadata": {},
     "output_type": "display_data"
    }
   ],
   "source": [
    "N = 500 #num birds\n",
    "L = 7000 #Sides of box, m\n",
    "\n",
    "v0 = 1.0      # velocity of birds (constant)\n",
    "eta = 0.5  \n",
    "theta_start = np.pi/2\n",
    "\n",
    "# Obstacles\n",
    "nrows = 6\n",
    "ncols = 10\n",
    "num_obstacles = nrows*ncols\n",
    "\n",
    "diameter = 100\n",
    "width = 10\n",
    "rotor_spacing_side = 5 #5 diameters to the side\n",
    "rotor_spacing_behind = 9 #9 diameters behind\n",
    "\n",
    "x_spacing = rotor_spacing_side * diameter\n",
    "y_spacing = rotor_spacing_behind * diameter\n",
    "offset = 0\n",
    "# offset = y_spacing/2\n",
    "beta = np.radians(0)\n",
    "Rx = diameter/2\n",
    "Ry = width/2\n",
    "n = 25\n",
    "\n",
    "# Set up a figure\n",
    "fig, ax = plt.subplots(figsize = (8,8))\n",
    "\n",
    "\n",
    "x_obstacle_list, y_obstacle_list, x_obstacle, y_obstacle = get_obstacles(L, num_obstacles, nrows, ncols, x_spacing, y_spacing, offset, beta, Rx, Ry, n)\n",
    "\n",
    "# Plot obstacle(s) - Plot the \"list\" to visualise the different obstaclces properly\n",
    "for xx, yy in zip(x_obstacle_list, y_obstacle_list):\n",
    "    ax.plot(xx, yy, 'r-')\n",
    "\n",
    "\n",
    "# Birds\n",
    "# x, y, vx, vy, theta = initialize_birds_square(N, L, v0, theta_start, eta)\n",
    "x, y, vx, vy, theta = initialize_birds_triangle(N, L, v0, theta_start, eta)\n",
    "\n",
    "\n",
    "# Plot initial quivers\n",
    "q = ax.quiver(x, y, vx, vy)\n",
    "\n",
    "# Set figure parameters\n",
    "ax.set(xlim=(0, L), ylim=(0, L))\n",
    "ax.set_aspect('equal')\n",
    "ax.get_xaxis().set_visible(False)\n",
    "ax.get_yaxis().set_visible(False)\n",
    "\n",
    "# # Save figure\n",
    "# name = 'elliptical'\n",
    "# plt.savefig(f\"images/example_{name}_turbine_test_set_up.png\", dpi=300, bbox_inches='tight')  # "
   ]
  },
  {
   "cell_type": "markdown",
   "metadata": {},
   "source": [
    "# Making bird speed, v0, a function of dt (timestep)\n",
    "\n",
    "The function *update_positions* handles the v*dt steps, therefore we can just set $v_0$ = 17.38 m/s "
   ]
  },
  {
   "cell_type": "markdown",
   "metadata": {},
   "source": [
    "# How long to run simulation?\n",
    "\n",
    "We should consider how long it would take for the the birds to fly across the whole domain as if there were no obstacles"
   ]
  },
  {
   "cell_type": "code",
   "execution_count": 53,
   "metadata": {},
   "outputs": [
    {
     "name": "stdout",
     "output_type": "stream",
     "text": [
      "Minimum simulation time: 403 s\n",
      "Simulation time: 413 s\n"
     ]
    }
   ],
   "source": [
    "L = 7000\n",
    "v0 = 17.38\n",
    "\n",
    "T = L/v0\n",
    "\n",
    "print(f'Minimum simulation time: {round(T)} s')\n",
    "\n",
    "# To account for stragglers, randomness, add an extra 10S\n",
    "simulation_T = T + 10\n",
    "print(f'Simulation time: {round(simulation_T)} s')\n"
   ]
  },
  {
   "cell_type": "markdown",
   "metadata": {},
   "source": [
    "How many time steps does that equal?"
   ]
  },
  {
   "cell_type": "code",
   "execution_count": null,
   "metadata": {},
   "outputs": [],
   "source": []
  },
  {
   "cell_type": "code",
   "execution_count": null,
   "metadata": {},
   "outputs": [],
   "source": []
  }
 ],
 "metadata": {
  "kernelspec": {
   "display_name": "py312",
   "language": "python",
   "name": "python3"
  },
  "language_info": {
   "codemirror_mode": {
    "name": "ipython",
    "version": 3
   },
   "file_extension": ".py",
   "mimetype": "text/x-python",
   "name": "python",
   "nbconvert_exporter": "python",
   "pygments_lexer": "ipython3",
   "version": "3.12.5"
  }
 },
 "nbformat": 4,
 "nbformat_minor": 2
}
