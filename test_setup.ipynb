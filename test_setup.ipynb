{
 "cells": [
  {
   "cell_type": "code",
   "execution_count": 1,
   "metadata": {},
   "outputs": [
    {
     "data": {
      "text/plain": [
       "<module 'functions' from 'c:\\\\uoe_repos\\\\ind-maths-project-2-group-8\\\\functions.py'>"
      ]
     },
     "execution_count": 1,
     "metadata": {},
     "output_type": "execute_result"
    }
   ],
   "source": [
    "import importlib\n",
    "\n",
    "import matplotlib.pyplot as plt\n",
    "import numpy as np\n",
    "from IPython.display import display, clear_output\n",
    "import matplotlib.animation as animation\n",
    "from matplotlib.animation import FuncAnimation\n",
    "\n",
    "import functions as f\n",
    "\n",
    "importlib.reload(f)"
   ]
  },
  {
   "cell_type": "markdown",
   "metadata": {},
   "source": [
    "## Testing how we can set up the domain for the tests\n",
    "\n",
    "#### Birds\n",
    "Need to consider\n",
    "- Flock size\n",
    "- Flock shape (V-shape?)\n",
    "- Spacing between birds\n",
    "- Number of birds\n",
    "\n",
    "\n",
    "\n",
    "#### Obstacles\n",
    "Need to consider\n",
    "- Number of obstaces\n",
    "- Spacing of obstacles\n",
    "- Grid type (even across/offset)\n",
    "- "
   ]
  },
  {
   "cell_type": "markdown",
   "metadata": {},
   "source": [
    "# Bird Flocks\n",
    "\n",
    "- Average length is 0.64m\n",
    "- Wingspan is 137.5cm\n",
    "\n",
    "Let's assume they want at least 2 m between the center of each bird\n",
    "\n",
    "Assume that birds fly in lines with a slight V-formation"
   ]
  },
  {
   "cell_type": "markdown",
   "metadata": {},
   "source": [
    "Old functions"
   ]
  },
  {
   "cell_type": "code",
   "execution_count": 17,
   "metadata": {},
   "outputs": [],
   "source": [
    "def add_noise_theta(theta, eta, N):\n",
    "    '''\n",
    "    Update theta with a random amount of noise between -eta/2 and eta/2\n",
    "    '''\n",
    "    theta += eta * (np.random.rand(N, 1) - 0.5)\n",
    "    \n",
    "    return theta\n",
    "\n",
    "def initialize_birds_random(N, L, v0):\n",
    "    '''\n",
    "    Set initial positions, direction, and velocities \n",
    "    '''\n",
    "    # Bird positions\n",
    "    x = np.random.rand(N, 1)*L\n",
    "    y = np.random.rand(N, 1)*L\n",
    "\n",
    "    # Bird velocities\n",
    "    theta = 2 * np.pi * np.random.rand(N, 1)\n",
    "    vx = v0 * np.cos(theta)\n",
    "    vy = v0 * np.sin(theta)\n",
    "\n",
    "    return x, y, vx, vy, theta\n",
    "\n",
    "\n",
    "def initialize_birds_square(N, L, v0, theta_start, eta):\n",
    "    '''\n",
    "    Set initial positions as a uniform placement starting at the edge of the box.\n",
    "    Set direction and velocity to be uniform with a small amount of noise \n",
    "    '''\n",
    "    \n",
    "    # Set bird initial flock as a square\n",
    "    N_per_side = int(np.sqrt(N))\n",
    "    \n",
    "    # Midpoint of area \n",
    "    midpoint = L//2\n",
    "    \n",
    "    # Define the x locations (start in centre of perimeter)\n",
    "    half_length = N_per_side // 2\n",
    "    start = midpoint - half_length\n",
    "    x_locs = np.arange(start, start + N_per_side)\n",
    "    \n",
    "    # Define the y locations (start from bottom)\n",
    "    y_locs = np.arange(0, N_per_side)\n",
    "    \n",
    "    # Define bird starting points\n",
    "    # Initialise lists\n",
    "    x = []\n",
    "    y = []\n",
    "    \n",
    "    for x_loc in x_locs:\n",
    "        for y_loc in y_locs:\n",
    "            x.append([x_loc])\n",
    "            y.append([y_loc])\n",
    "    \n",
    "    # Turn into numpy arrays\n",
    "    x = np.array(x, dtype=float)\n",
    "    y = np.array(y, dtype=float)\n",
    "    \n",
    "    # Bird Angle\n",
    "    # Make all birds same starting angle\n",
    "    theta = np.ones((len(x),1))*theta_start\n",
    "    \n",
    "    # Add noise\n",
    "    theta = add_noise_theta(theta, eta, N)\n",
    "    \n",
    "    \n",
    "    # Bird velocities\n",
    "    vx = v0 * np.cos(theta)\n",
    "    vy = v0 * np.sin(theta)\n",
    "    \n",
    "    \n",
    "    return x, y, vx, vy, theta"
   ]
  },
  {
   "cell_type": "markdown",
   "metadata": {},
   "source": [
    "Triangle flock shape"
   ]
  },
  {
   "cell_type": "code",
   "execution_count": null,
   "metadata": {},
   "outputs": [],
   "source": [
    "def initialize_birds_triangle(N, L, v0, theta_start, eta):\n",
    "    '''\n",
    "    Set initial positions as a triangle starting at the bottome edge of the simulation box.\n",
    "    Set direction and velocity to be uniform with a small amount of noise \n",
    "    \n",
    "    Triangle is shaped based on an angle (be an obstuse angle). Make it an obtuse isoceles triangle\n",
    "    Birds should spaced by 2 m in both the x and y directions\n",
    "    '''\n",
    "    min_distance = 2\n",
    "    top_angle = np.radians(150)\n",
    "\n",
    "    # Properties of obtuse isoceles triangle\n",
    "    bottom_angle = (np.pi - top_angle)/2\n",
    "\n",
    "    # Initialise parameters and lists\n",
    "    x, y = [], []\n",
    "    total_birds = 0\n",
    "    row = 0\n",
    "    x_row_0 = L // 2\n",
    "\n",
    "    # Loop through rows of triangle, starting with 1 in first row. \n",
    "\n",
    "    while total_birds < N:\n",
    "        # y position of this row\n",
    "        y_pos = -row * min_distance\n",
    "\n",
    "        # base length of triangle in this row\n",
    "        base_length = 2*abs(y_pos) / np.tan(bottom_angle)\n",
    "        half_base = base_length/2\n",
    "        \n",
    "        # number of birds that can fit in the current row\n",
    "        birds_in_row = int(base_length / min_distance) + 1\n",
    "\n",
    "        # limit the number of birds in the row if total exceeds N\n",
    "        if total_birds + birds_in_row > N:\n",
    "            birds_in_row = N - total_birds\n",
    "        \n",
    "        # add birds around the symmetric line of triangle\n",
    "        # go from left to right\n",
    "        x_row_start = x_row_0 - half_base\n",
    "        \n",
    "        for i in range(birds_in_row):\n",
    "            x.append(x_row_start + (i * min_distance))\n",
    "            y.append(y_pos)\n",
    "        \n",
    "        # update total birds and row counters\n",
    "        total_birds += birds_in_row\n",
    "        row += 1\n",
    "\n",
    "    # Turn into numpy arrays\n",
    "    x = np.array(x, dtype=float)\n",
    "    y = np.array(y, dtype=float)\n",
    "    \n",
    "    # shift all y_pos up so birds start within the domain\n",
    "    y = y + (row-1)*min_distance\n",
    "\n",
    "    # Bird Angle\n",
    "    # Make all birds the same starting angle\n",
    "    theta = np.ones((len(x), 1)) * theta_start\n",
    "\n",
    "    # Add noise to angle\n",
    "    theta = add_noise_theta(theta, eta, N)\n",
    "\n",
    "    # Bird velocities\n",
    "    vx = v0 * np.cos(theta)\n",
    "    vy = v0 * np.sin(theta)\n",
    "    \n",
    "    return x, y, vx, vy, theta\n"
   ]
  },
  {
   "cell_type": "markdown",
   "metadata": {},
   "source": [
    "Plot it"
   ]
  },
  {
   "cell_type": "code",
   "execution_count": 74,
   "metadata": {},
   "outputs": [
    {
     "data": {
      "text/plain": [
       "<matplotlib.lines.Line2D at 0x1344a0452b0>"
      ]
     },
     "execution_count": 74,
     "metadata": {},
     "output_type": "execute_result"
    },
    {
     "data": {
      "image/png": "[encoded data removed]",
      "text/plain": [
       "<Figure size 800x800 with 1 Axes>"
      ]
     },
     "metadata": {},
     "output_type": "display_data"
    }
   ],
   "source": [
    "N = 100\n",
    "L = 100\n",
    "\n",
    "v0 = 1.0      # velocity of birds (constant)\n",
    "eta = 0.5  \n",
    "theta_start = np.pi/2\n",
    "\n",
    "# Set up a figure\n",
    "fig, ax = plt.subplots(figsize = (8,8))\n",
    "\n",
    "\n",
    "# x, y, vx, vy, theta = initialize_birds_square(N, L, v0, theta_start, eta)\n",
    "\n",
    "\n",
    "x, y, vx, vy, theta = initialize_birds_triangle(N, L, v0, theta_start, eta)\n",
    "\n",
    "\n",
    "# Plot initial quivers\n",
    "q = ax.quiver(x, y, vx, vy)\n",
    "\n",
    "# Set figure parameters\n",
    "ax.set(xlim=(0, L), ylim=(0, L))\n",
    "ax.set_aspect('equal')\n",
    "ax.get_xaxis().set_visible(False)\n",
    "ax.get_yaxis().set_visible(False)\n",
    "\n",
    "ax.axvline(L//2)"
   ]
  }
 ],
 "metadata": {
  "kernelspec": {
   "display_name": "py312",
   "language": "python",
   "name": "python3"
  },
  "language_info": {
   "codemirror_mode": {
    "name": "ipython",
    "version": 3
   },
   "file_extension": ".py",
   "mimetype": "text/x-python",
   "name": "python",
   "nbconvert_exporter": "python",
   "pygments_lexer": "ipython3",
   "version": "3.12.5"
  }
 },
 "nbformat": 4,
 "nbformat_minor": 2
}
