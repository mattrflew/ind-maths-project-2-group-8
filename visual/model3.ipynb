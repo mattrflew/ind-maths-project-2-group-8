{
 "cells": [
  {
   "cell_type": "markdown",
   "metadata": {},
   "source": [
    "# Model 3"
   ]
  },
  {
   "cell_type": "markdown",
   "metadata": {},
   "source": [
    "We import the model and default parameters below:"
   ]
  },
  {
   "cell_type": "code",
   "execution_count": 29,
   "metadata": {},
   "outputs": [],
   "source": [
    "import sys\n",
    "import os\n",
    "\n",
    "# Now importing from the 'models' folder\n",
    "from models.model3 import run_model3\n",
    "from models.params_default import params_default\n",
    "\n",
    "# Create an instance of the default parameters\n",
    "params = params_default()"
   ]
  },
  {
   "cell_type": "code",
   "execution_count": 27,
   "metadata": {},
   "outputs": [],
   "source": [
    "# Test out different parameters\n",
    "params.v0 = 1 # Change bird velocity\n",
    "#etc..."
   ]
  },
  {
   "cell_type": "markdown",
   "metadata": {},
   "source": [
    "Running the model below:"
   ]
  },
  {
   "cell_type": "code",
   "execution_count": 28,
   "metadata": {},
   "outputs": [
    {
     "ename": "AttributeError",
     "evalue": "'params_default' object has no attribute 'method'",
     "output_type": "error",
     "traceback": [
      "\u001b[0;31m---------------------------------------------------------------------------\u001b[0m",
      "\u001b[0;31mAttributeError\u001b[0m                            Traceback (most recent call last)",
      "Cell \u001b[0;32mIn[28], line 1\u001b[0m\n\u001b[0;32m----> 1\u001b[0m \u001b[43mrun_model3\u001b[49m\u001b[43m(\u001b[49m\u001b[43mparams\u001b[49m\u001b[43m)\u001b[49m\n",
      "File \u001b[0;32m/workspaces/ind-maths-project-2-group-8/models/model3.py:497\u001b[0m, in \u001b[0;36mrun_model3\u001b[0;34m(params, plot)\u001b[0m\n\u001b[1;32m    478\u001b[0m x_obstacle_list, y_obstacle_list, x_obstacle, y_obstacle \u001b[38;5;241m=\u001b[39m initialize_obstacles(\n\u001b[1;32m    479\u001b[0m     L \u001b[38;5;241m=\u001b[39m params\u001b[38;5;241m.\u001b[39mL , \n\u001b[1;32m    480\u001b[0m     num_obstacles \u001b[38;5;241m=\u001b[39m params\u001b[38;5;241m.\u001b[39mnum_obstacles, \n\u001b[0;32m   (...)\u001b[0m\n\u001b[1;32m    487\u001b[0m     beta \u001b[38;5;241m=\u001b[39m params\u001b[38;5;241m.\u001b[39mbeta\n\u001b[1;32m    488\u001b[0m )\n\u001b[1;32m    490\u001b[0m \u001b[38;5;66;03m# Fetch the initial birds in the environment\u001b[39;00m\n\u001b[1;32m    491\u001b[0m x, y, vx, vy, _ \u001b[38;5;241m=\u001b[39m initialize_birds(\n\u001b[1;32m    492\u001b[0m     N \u001b[38;5;241m=\u001b[39m params\u001b[38;5;241m.\u001b[39mN, \n\u001b[1;32m    493\u001b[0m     L \u001b[38;5;241m=\u001b[39m params\u001b[38;5;241m.\u001b[39mL, \n\u001b[1;32m    494\u001b[0m     v0 \u001b[38;5;241m=\u001b[39m params\u001b[38;5;241m.\u001b[39mv0, \n\u001b[1;32m    495\u001b[0m     theta_start \u001b[38;5;241m=\u001b[39m params\u001b[38;5;241m.\u001b[39mtheta_start, \n\u001b[1;32m    496\u001b[0m     eta \u001b[38;5;241m=\u001b[39m params\u001b[38;5;241m.\u001b[39meta,\n\u001b[0;32m--> 497\u001b[0m     method \u001b[38;5;241m=\u001b[39m \u001b[43mparams\u001b[49m\u001b[38;5;241;43m.\u001b[39;49m\u001b[43mmethod\u001b[49m\n\u001b[1;32m    498\u001b[0m )\n\u001b[1;32m    500\u001b[0m \u001b[38;5;66;03m# Set up the figure and axis\u001b[39;00m\n\u001b[1;32m    501\u001b[0m fig, ax \u001b[38;5;241m=\u001b[39m plt\u001b[38;5;241m.\u001b[39msubplots(figsize\u001b[38;5;241m=\u001b[39m(\u001b[38;5;241m5\u001b[39m, \u001b[38;5;241m5\u001b[39m))\n",
      "\u001b[0;31mAttributeError\u001b[0m: 'params_default' object has no attribute 'method'"
     ]
    }
   ],
   "source": [
    "run_model3(params)"
   ]
  },
  {
   "cell_type": "code",
   "execution_count": null,
   "metadata": {},
   "outputs": [],
   "source": []
  }
 ],
 "metadata": {
  "kernelspec": {
   "display_name": "Python 3",
   "language": "python",
   "name": "python3"
  },
  "language_info": {
   "codemirror_mode": {
    "name": "ipython",
    "version": 3
   },
   "file_extension": ".py",
   "mimetype": "text/x-python",
   "name": "python",
   "nbconvert_exporter": "python",
   "pygments_lexer": "ipython3",
   "version": "3.12.1"
  }
 },
 "nbformat": 4,
 "nbformat_minor": 2
}
