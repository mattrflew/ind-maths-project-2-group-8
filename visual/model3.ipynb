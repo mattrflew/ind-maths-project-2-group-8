{
 "cells": [
  {
   "cell_type": "markdown",
   "metadata": {},
   "source": [
    "# Model 3"
   ]
  },
  {
   "cell_type": "markdown",
   "metadata": {},
   "source": [
    "We import the model and default parameters below:"
   ]
  },
  {
   "cell_type": "code",
   "execution_count": 2,
   "metadata": {},
   "outputs": [],
   "source": [
    "import sys\n",
    "import os"
   ]
  },
  {
   "cell_type": "code",
   "execution_count": 3,
   "metadata": {},
   "outputs": [],
   "source": [
    "# Add the project root to sys.path\n",
    "project_root = os.path.abspath(os.path.join(os.getcwd(), \"..\"))\n",
    "if project_root not in sys.path:\n",
    "    sys.path.append(project_root)\n",
    "\n",
    "# Now importing from the 'models' folder\n",
    "from models.model3 import run_model3\n",
    "from models.params_default import params_default\n",
    "\n",
    "# Create an instance of the default parameters\n",
    "params = params_default()"
   ]
  },
  {
   "cell_type": "code",
   "execution_count": null,
   "metadata": {},
   "outputs": [],
   "source": [
    "# Test out different parameters\n",
    "\n",
    "params.lam_c = 15 # centering\n",
    "params.lam_a = 30 # bird avoidance\n",
    "params.lam_m = 15  # matching\n",
    "params.lam_g = 15  # migratory behavior\n",
    "params.lam_w = 0  # wind influence\n",
    "params.lam_o = 30 # obstacle avoidance\n",
    "\n",
    "params.v0 = 100  # Moderate speed\n",
    "params.vmax = 100  # Max speed same as initial speed\n",
    "\n",
    "params.R_obs = 400  # obstacle detection range\n",
    "\n",
    "params.R_bird = 300 # Radius that birds can see\n",
    "params.r_min = 100  # Reasonable collision radius\n",
    "\n",
    "params.v0_wind = 0\n",
    "params.v_wind_noise = 0\n",
    "params.wind_theta = 0\n",
    "params.wind_theta_noise = 0\n",
    "\n",
    "params.N = 30\n",
    "params.bird_method = \"v-flock\"\n",
    "# etc..."
   ]
  },
  {
   "cell_type": "markdown",
   "metadata": {},
   "source": [
    "Running the model below:"
   ]
  },
  {
   "cell_type": "code",
   "execution_count": 4,
   "metadata": {},
   "outputs": [
    {
     "ename": "ValueError",
     "evalue": "too many values to unpack (expected 5)",
     "output_type": "error",
     "traceback": [
      "\u001b[0;31m---------------------------------------------------------------------------\u001b[0m",
      "\u001b[0;31mValueError\u001b[0m                                Traceback (most recent call last)",
      "Cell \u001b[0;32mIn[4], line 1\u001b[0m\n\u001b[0;32m----> 1\u001b[0m \u001b[43mrun_model3\u001b[49m\u001b[43m(\u001b[49m\u001b[43mparams\u001b[49m\u001b[43m,\u001b[49m\u001b[43m \u001b[49m\u001b[43mplot\u001b[49m\u001b[38;5;241;43m=\u001b[39;49m\u001b[38;5;28;43;01mTrue\u001b[39;49;00m\u001b[43m)\u001b[49m\n",
      "File \u001b[0;32m/workspaces/ind-maths-project-2-group-8/models/model3.py:652\u001b[0m, in \u001b[0;36mrun_model3\u001b[0;34m(params, plot)\u001b[0m\n\u001b[1;32m    636\u001b[0m x_obstacle_list, y_obstacle_list, x_obstacle, y_obstacle \u001b[38;5;241m=\u001b[39m initialize_obstacles(\n\u001b[1;32m    637\u001b[0m     L \u001b[38;5;241m=\u001b[39m params\u001b[38;5;241m.\u001b[39mL,\n\u001b[1;32m    638\u001b[0m     num_obstacles \u001b[38;5;241m=\u001b[39m params\u001b[38;5;241m.\u001b[39mnum_obstacles,\n\u001b[0;32m   (...)\u001b[0m\n\u001b[1;32m    648\u001b[0m     n \u001b[38;5;241m=\u001b[39m params\u001b[38;5;241m.\u001b[39mn\n\u001b[1;32m    649\u001b[0m )\n\u001b[1;32m    651\u001b[0m \u001b[38;5;66;03m# Fetch the initial birds in the environment\u001b[39;00m\n\u001b[0;32m--> 652\u001b[0m x, y, vx, vy, theta \u001b[38;5;241m=\u001b[39m initialize_birds(\n\u001b[1;32m    653\u001b[0m     N \u001b[38;5;241m=\u001b[39m params\u001b[38;5;241m.\u001b[39mN, \n\u001b[1;32m    654\u001b[0m     L \u001b[38;5;241m=\u001b[39m params\u001b[38;5;241m.\u001b[39mL, \n\u001b[1;32m    655\u001b[0m     v0 \u001b[38;5;241m=\u001b[39m params\u001b[38;5;241m.\u001b[39mv0, \n\u001b[1;32m    656\u001b[0m     theta_start \u001b[38;5;241m=\u001b[39m params\u001b[38;5;241m.\u001b[39mtheta_start, \n\u001b[1;32m    657\u001b[0m     eta \u001b[38;5;241m=\u001b[39m params\u001b[38;5;241m.\u001b[39meta,\n\u001b[1;32m    658\u001b[0m     method \u001b[38;5;241m=\u001b[39m params\u001b[38;5;241m.\u001b[39mbird_method\n\u001b[1;32m    659\u001b[0m )\n\u001b[1;32m    661\u001b[0m \u001b[38;5;66;03m# Set up a figure\u001b[39;00m\n\u001b[1;32m    662\u001b[0m fig, ax \u001b[38;5;241m=\u001b[39m plt\u001b[38;5;241m.\u001b[39msubplots(figsize \u001b[38;5;241m=\u001b[39m (\u001b[38;5;241m8\u001b[39m,\u001b[38;5;241m8\u001b[39m))\n",
      "\u001b[0;31mValueError\u001b[0m: too many values to unpack (expected 5)"
     ]
    }
   ],
   "source": [
    "run_model3(params, plot=True)"
   ]
  },
  {
   "cell_type": "code",
   "execution_count": null,
   "metadata": {},
   "outputs": [],
   "source": []
  }
 ],
 "metadata": {
  "kernelspec": {
   "display_name": "Python 3",
   "language": "python",
   "name": "python3"
  },
  "language_info": {
   "codemirror_mode": {
    "name": "ipython",
    "version": 3
   },
   "file_extension": ".py",
   "mimetype": "text/x-python",
   "name": "python",
   "nbconvert_exporter": "python",
   "pygments_lexer": "ipython3",
   "version": "3.12.1"
  }
 },
 "nbformat": 4,
 "nbformat_minor": 2
}
