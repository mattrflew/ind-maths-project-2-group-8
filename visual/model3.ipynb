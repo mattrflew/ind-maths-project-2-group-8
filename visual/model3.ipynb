{
 "cells": [
  {
   "cell_type": "markdown",
   "metadata": {},
   "source": [
    "# Model 3"
   ]
  },
  {
   "cell_type": "markdown",
   "metadata": {},
   "source": [
    "We import the model and default parameters below:"
   ]
  },
  {
   "cell_type": "code",
   "execution_count": 1,
   "metadata": {},
   "outputs": [],
   "source": [
    "import sys\n",
    "import os"
   ]
  },
  {
   "cell_type": "code",
   "execution_count": 2,
   "metadata": {},
   "outputs": [],
   "source": [
    "# Add the project root to sys.path\n",
    "project_root = os.path.abspath(os.path.join(os.getcwd(), \"..\"))\n",
    "if project_root not in sys.path:\n",
    "    sys.path.append(project_root)\n",
    "\n",
    "# Now importing from the 'models' folder\n",
    "from models.model3 import run_model3\n",
    "from models.params_default import params_default\n",
    "\n",
    "# Create an instance of the default parameters\n",
    "params = params_default()"
   ]
  },
  {
   "cell_type": "code",
   "execution_count": 3,
   "metadata": {},
   "outputs": [],
   "source": [
    "# Test out different parameters\n",
    "params.v0 = 1 # Change bird velocity\n",
    "# etc..."
   ]
  },
  {
   "cell_type": "markdown",
   "metadata": {},
   "source": [
    "Running the model below:"
   ]
  },
  {
   "cell_type": "code",
   "execution_count": 5,
   "metadata": {},
   "outputs": [
    {
     "ename": "UnboundLocalError",
     "evalue": "cannot access local variable 't' where it is not associated with a value",
     "output_type": "error",
     "traceback": [
      "\u001b[0;31m---------------------------------------------------------------------------\u001b[0m",
      "\u001b[0;31mUnboundLocalError\u001b[0m                         Traceback (most recent call last)",
      "Cell \u001b[0;32mIn[5], line 1\u001b[0m\n\u001b[0;32m----> 1\u001b[0m \u001b[43mrun_model3\u001b[49m\u001b[43m(\u001b[49m\u001b[43mparams\u001b[49m\u001b[43m)\u001b[49m\n",
      "File \u001b[0;32m/workspaces/ind-maths-project-2-group-8/models/model3.py:519\u001b[0m, in \u001b[0;36mrun_model3\u001b[0;34m(params, plot)\u001b[0m\n\u001b[1;32m    516\u001b[0m     ax\u001b[38;5;241m.\u001b[39mplot(xx, yy, \u001b[38;5;124m'\u001b[39m\u001b[38;5;124mr-\u001b[39m\u001b[38;5;124m'\u001b[39m)\n\u001b[1;32m    518\u001b[0m \u001b[38;5;66;03m# Wind visualization\u001b[39;00m\n\u001b[0;32m--> 519\u001b[0m vx_wind, vy_wind \u001b[38;5;241m=\u001b[39m wind(x, y, \u001b[43mt\u001b[49m, params\u001b[38;5;241m.\u001b[39mv0_wind, params\u001b[38;5;241m.\u001b[39mv_wind_noise, params\u001b[38;5;241m.\u001b[39mwind_theta, params\u001b[38;5;241m.\u001b[39mA_x, params\u001b[38;5;241m.\u001b[39mA_y, params\u001b[38;5;241m.\u001b[39mk, params\u001b[38;5;241m.\u001b[39mf, params\u001b[38;5;241m.\u001b[39mwind_method)\n\u001b[1;32m    520\u001b[0m wind_quiver \u001b[38;5;241m=\u001b[39m ax\u001b[38;5;241m.\u001b[39mquiver(\u001b[38;5;241m0\u001b[39m, \u001b[38;5;241m0\u001b[39m, vx_wind\u001b[38;5;241m.\u001b[39mmean(), vy_wind\u001b[38;5;241m.\u001b[39mmean(), color\u001b[38;5;241m=\u001b[39m\u001b[38;5;124m'\u001b[39m\u001b[38;5;124mred\u001b[39m\u001b[38;5;124m'\u001b[39m, scale\u001b[38;5;241m=\u001b[39m\u001b[38;5;241m1\u001b[39m)\n\u001b[1;32m    522\u001b[0m \u001b[38;5;66;03m# Metrics storage \u001b[39;00m\n",
      "\u001b[0;31mUnboundLocalError\u001b[0m: cannot access local variable 't' where it is not associated with a value"
     ]
    },
    {
     "data": {
      "image/png": "[encoded data removed]",
      "text/plain": [
       "<Figure size 500x500 with 1 Axes>"
      ]
     },
     "metadata": {},
     "output_type": "display_data"
    }
   ],
   "source": [
    "run_model3(params)"
   ]
  },
  {
   "cell_type": "code",
   "execution_count": null,
   "metadata": {},
   "outputs": [],
   "source": []
  }
 ],
 "metadata": {
  "kernelspec": {
   "display_name": "Python 3",
   "language": "python",
   "name": "python3"
  },
  "language_info": {
   "codemirror_mode": {
    "name": "ipython",
    "version": 3
   },
   "file_extension": ".py",
   "mimetype": "text/x-python",
   "name": "python",
   "nbconvert_exporter": "python",
   "pygments_lexer": "ipython3",
   "version": "3.12.1"
  }
 },
 "nbformat": 4,
 "nbformat_minor": 2
}
