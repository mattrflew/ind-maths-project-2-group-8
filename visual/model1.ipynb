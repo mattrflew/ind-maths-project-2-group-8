{
 "cells": [
  {
   "cell_type": "markdown",
   "metadata": {},
   "source": [
    "# Model 1"
   ]
  },
  {
   "cell_type": "markdown",
   "metadata": {},
   "source": [
    "Importing modules for correct directory links and updating parameters if needed."
   ]
  },
  {
   "cell_type": "code",
   "execution_count": 1,
   "metadata": {},
   "outputs": [],
   "source": [
    "import sys\n",
    "import os\n",
    "import numpy as np"
   ]
  },
  {
   "cell_type": "markdown",
   "metadata": {},
   "source": [
    "Importing model and parameters"
   ]
  },
  {
   "cell_type": "code",
   "execution_count": 2,
   "metadata": {},
   "outputs": [],
   "source": [
    "# Add the project root to sys.path\n",
    "project_root = os.path.abspath(os.path.join(os.getcwd(), \"..\"))\n",
    "if project_root not in sys.path:\n",
    "    sys.path.append(project_root)\n",
    "\n",
    "# Now importing from the 'models' folder\n",
    "from models.model1 import run_model1\n",
    "from models.params_default import params_default\n",
    "\n",
    "# Create an instance of the default parameters\n",
    "params = params_default()"
   ]
  },
  {
   "cell_type": "markdown",
   "metadata": {},
   "source": [
    "Updating any paramters we want to change from the default"
   ]
  },
  {
   "cell_type": "code",
   "execution_count": 3,
   "metadata": {},
   "outputs": [],
   "source": [
    "# Test out different parameters\n",
    "# params.v0 = 17\n",
    "params.R_obs = 300\n",
    "params.R_bird = 20 \n",
    "\n",
    "params.eta = 0.1 \n",
    "\n",
    "\n",
    "params.N = 300\n",
    "# params.theta_start = np.pi/2 + np.radians(25)\n",
    "\n",
    "params.dt = 1.5                 # Time step\n",
    "params.T = params.L/params.v0       # Minimum simulation length (seconds)\n",
    "params.Nt = int(params.T/params.dt) # No. of time steps\n",
    "\n",
    "params.v0_wind = 0\n",
    "params.v_wind_noise = 0\n",
    "params.wind_theta = 0\n",
    "params.wind_theta_noise = 0\n",
    "\n",
    "params.bird_method = \"v-flock\"\n",
    "\n",
    "params.offset = params.y_spacing/2\n",
    "params.beta = np.radians(30)\n",
    "\n",
    "params.n = 100\n",
    "# etc..."
   ]
  },
  {
   "cell_type": "markdown",
   "metadata": {},
   "source": [
    "Running the model"
   ]
  },
  {
   "cell_type": "code",
   "execution_count": 4,
   "metadata": {},
   "outputs": [
    {
     "data": {
      "image/png": "[encoded data removed]",
      "text/plain": [
       "<Figure size 800x800 with 1 Axes>"
      ]
     },
     "metadata": {},
     "output_type": "display_data"
    },
    {
     "data": {
      "image/png": "[encoded data removed]",
      "text/plain": [
       "<Figure size 800x800 with 1 Axes>"
      ]
     },
     "metadata": {},
     "output_type": "display_data"
    }
   ],
   "source": [
    "_,_,num_flocks = run_model1(params, plot = True)\n"
   ]
  },
  {
   "cell_type": "code",
   "execution_count": 5,
   "metadata": {},
   "outputs": [
    {
     "data": {
      "text/plain": [
       "5"
      ]
     },
     "execution_count": 5,
     "metadata": {},
     "output_type": "execute_result"
    }
   ],
   "source": [
    "num_flocks"
   ]
  },
  {
   "cell_type": "code",
   "execution_count": 6,
   "metadata": {},
   "outputs": [],
   "source": [
    "# def initialize_birds_triangle(N, L, v0, theta_start, eta):\n",
    "#     '''\n",
    "#     Set initial positions as a triangle starting at the bottome edge of the simulation box.\n",
    "#     Set direction and velocity to be uniform with a small amount of noise \n",
    "    \n",
    "#     Triangle is shaped based on an angle (be an obstuse angle). Make it an obtuse isoceles triangle\n",
    "#     Birds should spaced by 2 m in both the x and y directions\n",
    "#     '''\n",
    "#     min_distance = 2\n",
    "#     top_angle = np.radians(150)\n",
    "\n",
    "#     # Properties of obtuse isoceles triangle\n",
    "#     bottom_angle = (np.pi - top_angle)/2\n",
    "\n",
    "#     # Initialise parameters and lists\n",
    "#     x, y = [], []\n",
    "#     total_birds = 0\n",
    "#     row = 0\n",
    "#     x_row_0 = L // 2\n",
    "\n",
    "#     # Loop through rows of triangle, starting with 1 in first row. \n",
    "\n",
    "#     while total_birds < N:\n",
    "#         # y position of this row\n",
    "#         y_pos = -row * min_distance\n",
    "\n",
    "#         # base length of triangle in this row\n",
    "#         base_length = 2*abs(y_pos) / np.tan(bottom_angle)\n",
    "#         half_base = base_length/2\n",
    "        \n",
    "#         # number of birds that can fit in the current row\n",
    "#         birds_in_row = int(base_length / min_distance) + 1\n",
    "\n",
    "#         # limit the number of birds in the row if total exceeds N\n",
    "#         if total_birds + birds_in_row > N:\n",
    "#             birds_in_row = N - total_birds\n",
    "        \n",
    "#         # add birds around the symmetric line of triangle\n",
    "#         # go from left to right\n",
    "#         x_row_start = x_row_0 - half_base\n",
    "        \n",
    "#         for i in range(birds_in_row):\n",
    "#             x.append([x_row_start + (i * min_distance)])\n",
    "#             y.append([y_pos])\n",
    "        \n",
    "#         # update total birds and row counters\n",
    "#         total_birds += birds_in_row\n",
    "#         row += 1\n",
    "\n",
    "#     # Turn into numpy arrays\n",
    "#     x = np.array(x, dtype=float)\n",
    "#     y = np.array(y, dtype=float)\n",
    "    \n",
    "#     # shift all y_pos up so birds start within the domain\n",
    "#     y = y + (row-1)*min_distance + L/6\n",
    "\n",
    "#     # Bird Angle\n",
    "#     # Make all birds the same starting angle\n",
    "#     theta = np.ones((len(x), 1)) * theta_start\n",
    "\n",
    "#     # Add noise to angle\n",
    "#     # theta = add_noise_theta(theta, eta, N)\n",
    "\n",
    "#     # Bird velocities\n",
    "#     vx = v0 * np.cos(theta)\n",
    "#     vy = v0 * np.sin(theta)\n",
    "    \n",
    "#     # Calculate the effective radius of the flock\n",
    "#     r_effective = (max(x) - min(x))/2\n",
    "#     r_effective = r_effective[0]\n",
    "#     return x, y, vx, vy, theta, r_effective\n",
    "\n",
    "# x, y, vx, vy, theta, r_effective = initialize_birds_triangle(params.N, params.L, params.v0, params.theta_start, params.eta)\n",
    "\n",
    "\n"
   ]
  },
  {
   "cell_type": "code",
   "execution_count": 7,
   "metadata": {},
   "outputs": [],
   "source": [
    "# r_effective"
   ]
  }
 ],
 "metadata": {
  "kernelspec": {
   "display_name": "Python 3",
   "language": "python",
   "name": "python3"
  },
  "language_info": {
   "codemirror_mode": {
    "name": "ipython",
    "version": 3
   },
   "file_extension": ".py",
   "mimetype": "text/x-python",
   "name": "python",
   "nbconvert_exporter": "python",
   "pygments_lexer": "ipython3",
   "version": "3.12.1"
  }
 },
 "nbformat": 4,
 "nbformat_minor": 2
}
