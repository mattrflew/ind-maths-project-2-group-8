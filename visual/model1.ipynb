{
 "cells": [
  {
   "cell_type": "markdown",
   "metadata": {},
   "source": [
    "# Model 1"
   ]
  },
  {
   "cell_type": "markdown",
   "metadata": {},
   "source": [
    "Importing modules for correct directory links and updating parameters if needed."
   ]
  },
  {
   "cell_type": "code",
   "execution_count": 1,
   "metadata": {},
   "outputs": [],
   "source": [
    "import sys\n",
    "import os\n",
    "import numpy as np"
   ]
  },
  {
   "cell_type": "markdown",
   "metadata": {},
   "source": [
    "Importing model and parameters"
   ]
  },
  {
   "cell_type": "code",
   "execution_count": 2,
   "metadata": {},
   "outputs": [],
   "source": [
    "# Add the project root to sys.path\n",
    "project_root = os.path.abspath(os.path.join(os.getcwd(), \"..\"))\n",
    "if project_root not in sys.path:\n",
    "    sys.path.append(project_root)\n",
    "\n",
    "# Now importing from the 'models' folder\n",
    "from models.model1 import run_model1\n",
    "from models.params_default import params_default\n",
    "\n",
    "# Create an instance of the default parameters\n",
    "params = params_default()"
   ]
  },
  {
   "cell_type": "markdown",
   "metadata": {},
   "source": [
    "Updating any paramters we want to change from the default"
   ]
  },
  {
   "cell_type": "code",
   "execution_count": 3,
   "metadata": {},
   "outputs": [],
   "source": [
    "# Test out different parameters\n",
    "params.v0_wind = 0\n",
    "params.v_wind_noise = 0\n",
    "params.wind_theta = wind_theta=np.pi/2\n",
    "params.wind_theta_noise = np.radians(0)\n",
    "# etc..."
   ]
  },
  {
   "cell_type": "markdown",
   "metadata": {},
   "source": [
    "Running the model"
   ]
  },
  {
   "cell_type": "code",
   "execution_count": 4,
   "metadata": {},
   "outputs": [
    {
     "ename": "AttributeError",
     "evalue": "'params_default' object has no attribute 'theta'",
     "output_type": "error",
     "traceback": [
      "\u001b[0;31m---------------------------------------------------------------------------\u001b[0m",
      "\u001b[0;31mAttributeError\u001b[0m                            Traceback (most recent call last)",
      "Cell \u001b[0;32mIn[4], line 1\u001b[0m\n\u001b[0;32m----> 1\u001b[0m \u001b[43mrun_model1\u001b[49m\u001b[43m(\u001b[49m\u001b[43mparams\u001b[49m\u001b[43m,\u001b[49m\u001b[43m \u001b[49m\u001b[43mplot\u001b[49m\u001b[43m \u001b[49m\u001b[38;5;241;43m=\u001b[39;49m\u001b[43m \u001b[49m\u001b[38;5;28;43;01mTrue\u001b[39;49;00m\u001b[43m)\u001b[49m\n",
      "File \u001b[0;32m/workspaces/ind-maths-project-2-group-8/models/model1.py:288\u001b[0m, in \u001b[0;36mrun_model1\u001b[0;34m(params, plot)\u001b[0m\n\u001b[1;32m    276\u001b[0m \u001b[38;5;66;03m# Do each step, updating the quiver and plotting the new one\u001b[39;00m\n\u001b[1;32m    277\u001b[0m \u001b[38;5;28;01mfor\u001b[39;00m i \u001b[38;5;129;01min\u001b[39;00m \u001b[38;5;28mrange\u001b[39m(params\u001b[38;5;241m.\u001b[39mNt):\n\u001b[1;32m    279\u001b[0m     x, y, vx, vy, vx_wind, vy_wind \u001b[38;5;241m=\u001b[39m step(\n\u001b[1;32m    280\u001b[0m         x \u001b[38;5;241m=\u001b[39m x, \n\u001b[1;32m    281\u001b[0m         y \u001b[38;5;241m=\u001b[39m y, \n\u001b[1;32m    282\u001b[0m         vx \u001b[38;5;241m=\u001b[39m vx, \n\u001b[1;32m    283\u001b[0m         vy \u001b[38;5;241m=\u001b[39m vy, \n\u001b[1;32m    284\u001b[0m         x_obstacle \u001b[38;5;241m=\u001b[39m x_obstacle, \n\u001b[1;32m    285\u001b[0m         y_obstacle \u001b[38;5;241m=\u001b[39m y_obstacle, \n\u001b[1;32m    286\u001b[0m         L \u001b[38;5;241m=\u001b[39m params\u001b[38;5;241m.\u001b[39mL, \n\u001b[1;32m    287\u001b[0m         v0 \u001b[38;5;241m=\u001b[39m params\u001b[38;5;241m.\u001b[39mv0, \n\u001b[0;32m--> 288\u001b[0m         theta \u001b[38;5;241m=\u001b[39m \u001b[43mparams\u001b[49m\u001b[38;5;241;43m.\u001b[39;49m\u001b[43mtheta\u001b[49m, \n\u001b[1;32m    289\u001b[0m         Rsq \u001b[38;5;241m=\u001b[39m params\u001b[38;5;241m.\u001b[39mRsq, \n\u001b[1;32m    290\u001b[0m         R_obs \u001b[38;5;241m=\u001b[39m params\u001b[38;5;241m.\u001b[39mR_obs,  \n\u001b[1;32m    291\u001b[0m         eta \u001b[38;5;241m=\u001b[39m params\u001b[38;5;241m.\u001b[39meta, \n\u001b[1;32m    292\u001b[0m         fov_angle \u001b[38;5;241m=\u001b[39m params\u001b[38;5;241m.\u001b[39mfov_angle, \n\u001b[1;32m    293\u001b[0m         N \u001b[38;5;241m=\u001b[39m params\u001b[38;5;241m.\u001b[39mN, \n\u001b[1;32m    294\u001b[0m         dt \u001b[38;5;241m=\u001b[39m params\u001b[38;5;241m.\u001b[39mdt, \n\u001b[1;32m    295\u001b[0m         v0_wind \u001b[38;5;241m=\u001b[39m params\u001b[38;5;241m.\u001b[39mv0_wind, \n\u001b[1;32m    296\u001b[0m         v_wind_noise \u001b[38;5;241m=\u001b[39m params\u001b[38;5;241m.\u001b[39mv_wind_noise, \n\u001b[1;32m    297\u001b[0m         wind_theta \u001b[38;5;241m=\u001b[39m params\u001b[38;5;241m.\u001b[39mwind_theta, \n\u001b[1;32m    298\u001b[0m         wind_theta_noise \u001b[38;5;241m=\u001b[39m params\u001b[38;5;241m.\u001b[39mwind_theta_noise\n\u001b[1;32m    299\u001b[0m     )\n\u001b[1;32m    301\u001b[0m     \u001b[38;5;28;01mif\u001b[39;00m plot:\n\u001b[1;32m    302\u001b[0m         q \u001b[38;5;241m=\u001b[39m update_quiver(q, x, y, vx, vy)\n",
      "\u001b[0;31mAttributeError\u001b[0m: 'params_default' object has no attribute 'theta'"
     ]
    },
    {
     "data": {
      "image/png": "[encoded data removed]",
      "text/plain": [
       "<Figure size 800x800 with 1 Axes>"
      ]
     },
     "metadata": {},
     "output_type": "display_data"
    }
   ],
   "source": [
    "run_model1(params, plot = True)"
   ]
  },
  {
   "cell_type": "markdown",
   "metadata": {},
   "source": []
  }
 ],
 "metadata": {
  "kernelspec": {
   "display_name": "Python 3",
   "language": "python",
   "name": "python3"
  },
  "language_info": {
   "codemirror_mode": {
    "name": "ipython",
    "version": 3
   },
   "file_extension": ".py",
   "mimetype": "text/x-python",
   "name": "python",
   "nbconvert_exporter": "python",
   "pygments_lexer": "ipython3",
   "version": "3.12.1"
  }
 },
 "nbformat": 4,
 "nbformat_minor": 2
}
