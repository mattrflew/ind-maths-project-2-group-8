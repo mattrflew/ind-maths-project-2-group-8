{
 "cells": [
  {
   "cell_type": "code",
   "execution_count": 24,
   "metadata": {},
   "outputs": [],
   "source": [
    "import json\n",
    "import itertools\n",
    "import numpy as np"
   ]
  },
  {
   "cell_type": "markdown",
   "metadata": {},
   "source": [
    "Read in the original test cases"
   ]
  },
  {
   "cell_type": "code",
   "execution_count": 25,
   "metadata": {},
   "outputs": [],
   "source": [
    "path_to_test_cases = '../test_cases/test_cases.json'\n",
    "\n",
    "with open(path_to_test_cases) as json_file:\n",
    "    test_cases = json.load(json_file)"
   ]
  },
  {
   "cell_type": "markdown",
   "metadata": {},
   "source": [
    "Define the \"optimal cases\""
   ]
  },
  {
   "cell_type": "code",
   "execution_count": 26,
   "metadata": {},
   "outputs": [],
   "source": [
    "optimal = ['test_008','test_015', 'test_014']"
   ]
  },
  {
   "cell_type": "markdown",
   "metadata": {},
   "source": [
    "Write a new json file from those original tests considering wind speed"
   ]
  },
  {
   "cell_type": "code",
   "execution_count": null,
   "metadata": {},
   "outputs": [],
   "source": [
    "wind_speeds = [4, 13, 25]\n",
    "v_wind_noise = 1 # max variation in wind magnitude\n",
    "\n",
    "new_test_cases = {}\n",
    "\n",
    "# Loop over each optimal setting and wind speed\n",
    "for test in optimal:\n",
    "    for wind_speed in wind_speeds:\n",
    "        # Create a new key for the modified test case\n",
    "        new_key = f\"{test}_wind_speed_{wind_speed}\"\n",
    "        \n",
    "        # Copy the original test case data and update with wind settings\n",
    "        new_test_cases[new_key] = {\n",
    "            **test_cases[test],  # copy original test case params\n",
    "            'v0_wind': wind_speed,  # add wind speed\n",
    "            'v_wind_noise': v_wind_noise  # add max noise amount\n",
    "        }\n",
    "\n",
    "\n",
    "# Save to json file\n",
    "with open(\"optimal_test_cases_with_wind.json\", \"w\") as json_file:\n",
    "    json.dump(new_test_cases, json_file, indent=4)\n"
   ]
  },
  {
   "cell_type": "code",
   "execution_count": 31,
   "metadata": {},
   "outputs": [
    {
     "name": "stdout",
     "output_type": "stream",
     "text": [
      "yes\n"
     ]
    }
   ],
   "source": [
    "if 'v0_wind' in new_test_cases['test_008_wind_speed_4'].keys():\n",
    "    print('yes')"
   ]
  }
 ],
 "metadata": {
  "kernelspec": {
   "display_name": "py312",
   "language": "python",
   "name": "python3"
  },
  "language_info": {
   "codemirror_mode": {
    "name": "ipython",
    "version": 3
   },
   "file_extension": ".py",
   "mimetype": "text/x-python",
   "name": "python",
   "nbconvert_exporter": "python",
   "pygments_lexer": "ipython3",
   "version": "3.12.5"
  }
 },
 "nbformat": 4,
 "nbformat_minor": 2
}
