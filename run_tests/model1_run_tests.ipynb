{
 "cells": [
  {
   "cell_type": "markdown",
   "metadata": {},
   "source": [
    "# Model 1"
   ]
  },
  {
   "cell_type": "markdown",
   "metadata": {},
   "source": [
    "Importing modules for correct directory links"
   ]
  },
  {
   "cell_type": "code",
   "execution_count": 7,
   "metadata": {},
   "outputs": [],
   "source": [
    "import sys\n",
    "import os\n",
    "import numpy as np\n",
    "import json\n",
    "import pandas as pd\n",
    "import csv"
   ]
  },
  {
   "cell_type": "markdown",
   "metadata": {},
   "source": [
    "Importing model and parameters"
   ]
  },
  {
   "cell_type": "code",
   "execution_count": 8,
   "metadata": {},
   "outputs": [],
   "source": [
    "# Add the project root to sys.path\n",
    "project_root = os.path.abspath(os.path.join(os.getcwd(), \"..\"))\n",
    "if project_root not in sys.path:\n",
    "    sys.path.append(project_root)\n",
    "\n",
    "# Now importing from the 'models' folder\n",
    "from models.model1 import run_model1\n",
    "from models.params_default import params_default\n",
    "\n",
    "# Import functions\n",
    "from models.functions import *\n",
    "\n",
    "# Create an instance of the default parameters\n",
    "params = params_default()"
   ]
  },
  {
   "cell_type": "markdown",
   "metadata": {},
   "source": [
    "# Initialise File to Save Results"
   ]
  },
  {
   "cell_type": "code",
   "execution_count": 9,
   "metadata": {},
   "outputs": [],
   "source": [
    "file_path = '../results/model1/model1_results.csv'\n",
    "\n",
    "headers = ['Test Case', 'Avg Dispersion', 'Avg Offset', 'Avg Clustering Coefficient', 'Num Flocks']\n",
    "\n",
    "def initialize_csv(file_name, headers):\n",
    "    with open(file_name, mode='w', newline='') as file:\n",
    "        writer = csv.writer(file)\n",
    "        writer.writerow(headers)\n",
    "\n",
    "initialize_csv(file_path, headers)\n",
    "\n",
    "def write_to_csv(file_name, data_row):\n",
    "    with open(file_name, mode='a', newline='') as file:\n",
    "        writer = csv.writer(file)\n",
    "        writer.writerow(data_row)\n"
   ]
  },
  {
   "cell_type": "markdown",
   "metadata": {},
   "source": [
    "# Read in Test Cases"
   ]
  },
  {
   "cell_type": "code",
   "execution_count": 10,
   "metadata": {},
   "outputs": [],
   "source": [
    "path_to_test_cases = '../test_cases/test_cases_EXAMPLE.json'\n",
    "\n",
    "with open(path_to_test_cases) as json_file:\n",
    "    test_cases = json.load(json_file)\n"
   ]
  },
  {
   "cell_type": "markdown",
   "metadata": {},
   "source": [
    "# Run Test Cases"
   ]
  },
  {
   "cell_type": "code",
   "execution_count": 11,
   "metadata": {},
   "outputs": [],
   "source": [
    "def adjust_params(params, test_case):\n",
    "    '''\n",
    "    Adjust the parameters based on the test cases\n",
    "    '''\n",
    "    \n",
    "    params.num_obstacles = test_case['num_obstacles']\n",
    "    params.x_spacing = test_case['x_spacing']\n",
    "    params.y_spacing = test_case['y_spacing']\n",
    "    params.offset = test_case['offset']\n",
    "    params.beta = test_case['beta']\n",
    "    \n",
    "    return params\n",
    "    "
   ]
  },
  {
   "cell_type": "code",
   "execution_count": null,
   "metadata": {},
   "outputs": [],
   "source": []
  },
  {
   "cell_type": "code",
   "execution_count": 12,
   "metadata": {},
   "outputs": [
    {
     "name": "stdout",
     "output_type": "stream",
     "text": [
      "RUNNING MODEL: test_baseline, 1 of 3\n",
      "----------------------------------------\n"
     ]
    },
    {
     "ename": "ZeroDivisionError",
     "evalue": "division by zero",
     "output_type": "error",
     "traceback": [
      "\u001b[1;31m---------------------------------------------------------------------------\u001b[0m",
      "\u001b[1;31mZeroDivisionError\u001b[0m                         Traceback (most recent call last)",
      "Cell \u001b[1;32mIn[12], line 23\u001b[0m\n\u001b[0;32m     20\u001b[0m params \u001b[38;5;241m=\u001b[39m adjust_params(params, test_case)\n\u001b[0;32m     22\u001b[0m \u001b[38;5;66;03m# Run the model:\u001b[39;00m\n\u001b[1;32m---> 23\u001b[0m dispersion_values, offset_values, clustering_coefficients, num_flocks \u001b[38;5;241m=\u001b[39m \u001b[43mrun_model1\u001b[49m\u001b[43m(\u001b[49m\u001b[43mparams\u001b[49m\u001b[43m,\u001b[49m\u001b[43m \u001b[49m\u001b[43mplot\u001b[49m\u001b[43m \u001b[49m\u001b[38;5;241;43m=\u001b[39;49m\u001b[43m \u001b[49m\u001b[38;5;28;43;01mTrue\u001b[39;49;00m\u001b[43m)\u001b[49m\n\u001b[0;32m     25\u001b[0m \u001b[38;5;66;03m# Average the metrics\u001b[39;00m\n\u001b[0;32m     26\u001b[0m avg_dispersion, avg_offset, avg_clustering_coefficient \u001b[38;5;241m=\u001b[39m return_metric_statistics(dispersion_values, offset_values, clustering_coefficients)\n",
      "File \u001b[1;32mc:\\uoe_repos\\ind-maths-project-2-group-8\\models\\model1.py:234\u001b[0m, in \u001b[0;36mrun_model1\u001b[1;34m(params, plot)\u001b[0m\n\u001b[0;32m    231\u001b[0m     params \u001b[38;5;241m=\u001b[39m params_default() \n\u001b[0;32m    233\u001b[0m \u001b[38;5;66;03m# Fetch the obstacles in the environment\u001b[39;00m\n\u001b[1;32m--> 234\u001b[0m x_obstacle_list, y_obstacle_list, x_obstacle, y_obstacle \u001b[38;5;241m=\u001b[39m \u001b[43minitialize_obstacles\u001b[49m\u001b[43m(\u001b[49m\n\u001b[0;32m    235\u001b[0m \u001b[43m    \u001b[49m\u001b[43mL\u001b[49m\u001b[43m \u001b[49m\u001b[38;5;241;43m=\u001b[39;49m\u001b[43m \u001b[49m\u001b[43mparams\u001b[49m\u001b[38;5;241;43m.\u001b[39;49m\u001b[43mL\u001b[49m\u001b[43m,\u001b[49m\n\u001b[0;32m    236\u001b[0m \u001b[43m    \u001b[49m\u001b[43mnum_obstacles\u001b[49m\u001b[43m \u001b[49m\u001b[38;5;241;43m=\u001b[39;49m\u001b[43m \u001b[49m\u001b[43mparams\u001b[49m\u001b[38;5;241;43m.\u001b[39;49m\u001b[43mnum_obstacles\u001b[49m\u001b[43m,\u001b[49m\n\u001b[0;32m    237\u001b[0m \u001b[43m    \u001b[49m\u001b[43mnrows\u001b[49m\u001b[43m \u001b[49m\u001b[38;5;241;43m=\u001b[39;49m\u001b[43m \u001b[49m\u001b[43mparams\u001b[49m\u001b[38;5;241;43m.\u001b[39;49m\u001b[43mnrows\u001b[49m\u001b[43m,\u001b[49m\u001b[43m \u001b[49m\n\u001b[0;32m    238\u001b[0m \u001b[43m    \u001b[49m\u001b[43mncols\u001b[49m\u001b[43m \u001b[49m\u001b[38;5;241;43m=\u001b[39;49m\u001b[43m \u001b[49m\u001b[43mparams\u001b[49m\u001b[38;5;241;43m.\u001b[39;49m\u001b[43mncols\u001b[49m\u001b[43m,\u001b[49m\u001b[43m \u001b[49m\n\u001b[0;32m    239\u001b[0m \u001b[43m    \u001b[49m\u001b[43mshape\u001b[49m\u001b[43m \u001b[49m\u001b[38;5;241;43m=\u001b[39;49m\u001b[43m \u001b[49m\u001b[43mparams\u001b[49m\u001b[38;5;241;43m.\u001b[39;49m\u001b[43mshape\u001b[49m\u001b[43m,\u001b[49m\u001b[43m \u001b[49m\n\u001b[0;32m    240\u001b[0m \u001b[43m    \u001b[49m\u001b[43mRx\u001b[49m\u001b[43m \u001b[49m\u001b[38;5;241;43m=\u001b[39;49m\u001b[43m \u001b[49m\u001b[43mparams\u001b[49m\u001b[38;5;241;43m.\u001b[39;49m\u001b[43mRx\u001b[49m\u001b[43m,\u001b[49m\u001b[43m \u001b[49m\n\u001b[0;32m    241\u001b[0m \u001b[43m    \u001b[49m\u001b[43mRy\u001b[49m\u001b[43m \u001b[49m\u001b[38;5;241;43m=\u001b[39;49m\u001b[43m \u001b[49m\u001b[43mparams\u001b[49m\u001b[38;5;241;43m.\u001b[39;49m\u001b[43mRy\u001b[49m\u001b[43m,\u001b[49m\u001b[43m \u001b[49m\n\u001b[0;32m    242\u001b[0m \u001b[43m    \u001b[49m\u001b[43mx_spacing\u001b[49m\u001b[43m \u001b[49m\u001b[38;5;241;43m=\u001b[39;49m\u001b[43m \u001b[49m\u001b[43mparams\u001b[49m\u001b[38;5;241;43m.\u001b[39;49m\u001b[43mx_spacing\u001b[49m\u001b[43m,\u001b[49m\u001b[43m \u001b[49m\n\u001b[0;32m    243\u001b[0m \u001b[43m    \u001b[49m\u001b[43my_spacing\u001b[49m\u001b[43m \u001b[49m\u001b[38;5;241;43m=\u001b[39;49m\u001b[43m \u001b[49m\u001b[43mparams\u001b[49m\u001b[38;5;241;43m.\u001b[39;49m\u001b[43my_spacing\u001b[49m\u001b[43m,\u001b[49m\u001b[43m \u001b[49m\n\u001b[0;32m    244\u001b[0m \u001b[43m    \u001b[49m\u001b[43moffset\u001b[49m\u001b[43m \u001b[49m\u001b[38;5;241;43m=\u001b[39;49m\u001b[43m \u001b[49m\u001b[43mparams\u001b[49m\u001b[38;5;241;43m.\u001b[39;49m\u001b[43moffset\u001b[49m\u001b[43m,\u001b[49m\u001b[43m \u001b[49m\n\u001b[0;32m    245\u001b[0m \u001b[43m    \u001b[49m\u001b[43mbeta\u001b[49m\u001b[43m \u001b[49m\u001b[38;5;241;43m=\u001b[39;49m\u001b[43m \u001b[49m\u001b[43mparams\u001b[49m\u001b[38;5;241;43m.\u001b[39;49m\u001b[43mbeta\u001b[49m\u001b[43m,\u001b[49m\n\u001b[0;32m    246\u001b[0m \u001b[43m    \u001b[49m\u001b[43mn\u001b[49m\u001b[43m \u001b[49m\u001b[38;5;241;43m=\u001b[39;49m\u001b[43m \u001b[49m\u001b[43mparams\u001b[49m\u001b[38;5;241;43m.\u001b[39;49m\u001b[43mn\u001b[49m\n\u001b[0;32m    247\u001b[0m \u001b[43m\u001b[49m\u001b[43m)\u001b[49m\n\u001b[0;32m    249\u001b[0m \u001b[38;5;66;03m# Fetch the initial birds in the environment\u001b[39;00m\n\u001b[0;32m    250\u001b[0m x, y, vx, vy, theta, r_effective \u001b[38;5;241m=\u001b[39m initialize_birds(\n\u001b[0;32m    251\u001b[0m     N \u001b[38;5;241m=\u001b[39m params\u001b[38;5;241m.\u001b[39mN, \n\u001b[0;32m    252\u001b[0m     L \u001b[38;5;241m=\u001b[39m params\u001b[38;5;241m.\u001b[39mL, \n\u001b[1;32m   (...)\u001b[0m\n\u001b[0;32m    256\u001b[0m     method \u001b[38;5;241m=\u001b[39m params\u001b[38;5;241m.\u001b[39mbird_method\n\u001b[0;32m    257\u001b[0m )\n",
      "File \u001b[1;32mc:\\uoe_repos\\ind-maths-project-2-group-8\\models\\initialise.py:442\u001b[0m, in \u001b[0;36minitialize_obstacles\u001b[1;34m(L, num_obstacles, nrows, ncols, shape, Rx, Ry, x_spacing, y_spacing, offset, beta, n)\u001b[0m\n\u001b[0;32m    438\u001b[0m \u001b[38;5;28;01mdef\u001b[39;00m \u001b[38;5;21minitialize_obstacles\u001b[39m(L, num_obstacles, nrows, ncols, shape, Rx, Ry, x_spacing, y_spacing, offset, beta, n):\n\u001b[0;32m    439\u001b[0m \u001b[38;5;250m    \u001b[39m\u001b[38;5;124;03m'''\u001b[39;00m\n\u001b[0;32m    440\u001b[0m \u001b[38;5;124;03m    Master function to initialise obstacles and get lists of their x, y points\u001b[39;00m\n\u001b[0;32m    441\u001b[0m \u001b[38;5;124;03m    '''\u001b[39;00m\n\u001b[1;32m--> 442\u001b[0m     x_centres, y_centres \u001b[38;5;241m=\u001b[39m \u001b[43mget_obstacle_rectangle_grid\u001b[49m\u001b[43m(\u001b[49m\u001b[43mL\u001b[49m\u001b[43m,\u001b[49m\u001b[43m \u001b[49m\u001b[43mnrows\u001b[49m\u001b[43m,\u001b[49m\u001b[43m \u001b[49m\u001b[43mncols\u001b[49m\u001b[43m,\u001b[49m\u001b[43m \u001b[49m\u001b[43mx_spacing\u001b[49m\u001b[43m,\u001b[49m\u001b[43m \u001b[49m\u001b[43my_spacing\u001b[49m\u001b[43m,\u001b[49m\u001b[43m \u001b[49m\u001b[43moffset\u001b[49m\u001b[43m,\u001b[49m\u001b[43m \u001b[49m\u001b[43mbeta\u001b[49m\u001b[43m)\u001b[49m\n\u001b[0;32m    444\u001b[0m     \u001b[38;5;66;03m# Initalise lists\u001b[39;00m\n\u001b[0;32m    445\u001b[0m     x_obstacle_list \u001b[38;5;241m=\u001b[39m []\n",
      "File \u001b[1;32mc:\\uoe_repos\\ind-maths-project-2-group-8\\models\\initialise.py:312\u001b[0m, in \u001b[0;36mget_obstacle_rectangle_grid\u001b[1;34m(L, nrows, ncols, x_spacing, y_spacing, offset, beta)\u001b[0m\n\u001b[0;32m    309\u001b[0m \u001b[38;5;66;03m# Define the grid now\u001b[39;00m\n\u001b[0;32m    310\u001b[0m \u001b[38;5;66;03m# Centre x and y locations around midlines\u001b[39;00m\n\u001b[0;32m    311\u001b[0m total_x_distance \u001b[38;5;241m=\u001b[39m ncols\u001b[38;5;241m*\u001b[39mx_spacing\n\u001b[1;32m--> 312\u001b[0m x_locs \u001b[38;5;241m=\u001b[39m \u001b[43mnp\u001b[49m\u001b[38;5;241;43m.\u001b[39;49m\u001b[43marange\u001b[49m\u001b[43m(\u001b[49m\u001b[43mmin_x\u001b[49m\u001b[43m,\u001b[49m\u001b[43m \u001b[49m\u001b[43mmin_x\u001b[49m\u001b[43m \u001b[49m\u001b[38;5;241;43m+\u001b[39;49m\u001b[43m \u001b[49m\u001b[43mtotal_x_distance\u001b[49m\u001b[43m,\u001b[49m\u001b[43m \u001b[49m\u001b[43mx_spacing\u001b[49m\u001b[43m)\u001b[49m\n\u001b[0;32m    313\u001b[0m temp_mid \u001b[38;5;241m=\u001b[39m np\u001b[38;5;241m.\u001b[39mmean(x_locs)\n\u001b[0;32m    315\u001b[0m x_locs \u001b[38;5;241m=\u001b[39m x_locs \u001b[38;5;241m+\u001b[39m midpoint_x \u001b[38;5;241m-\u001b[39m temp_mid\n",
      "\u001b[1;31mZeroDivisionError\u001b[0m: division by zero"
     ]
    }
   ],
   "source": [
    "num_times_to_run = 1\n",
    "\n",
    "num_tests = num_times_to_run * len(test_cases.keys())\n",
    "cnt = 0\n",
    "# Loop over the test cases\n",
    "for key in test_cases.keys():\n",
    "    cnt += 1\n",
    "    \n",
    "    for _ in range(num_times_to_run):\n",
    "        # Re-initialise the parameters to default\n",
    "        params = params_default()\n",
    "        \n",
    "        print(f'RUNNING MODEL: {key}, {cnt} of {num_tests}')\n",
    "        print(f'----------------------------------------')\n",
    "        \n",
    "        # Specify test case\n",
    "        test_case = test_cases[key]\n",
    "\n",
    "        # Adjust the parameters to test case\n",
    "        params = adjust_params(params, test_case)\n",
    "        \n",
    "        # Run the model:\n",
    "        dispersion_values, offset_values, clustering_coefficients, num_flocks = run_model1(params, plot = True)\n",
    "        \n",
    "        # Average the metrics\n",
    "        avg_dispersion, avg_offset, avg_clustering_coefficient = return_metric_statistics(dispersion_values, offset_values, clustering_coefficients)\n",
    "        \n",
    "        # Write to file\n",
    "        data_row = [key, avg_dispersion, avg_offset, avg_clustering_coefficient, num_flocks]\n",
    "        write_to_csv(file_path, data_row)\n",
    "        \n",
    "        print(f'SAVED TO FILE')\n",
    "    "
   ]
  }
 ],
 "metadata": {
  "kernelspec": {
   "display_name": "py312",
   "language": "python",
   "name": "python3"
  },
  "language_info": {
   "codemirror_mode": {
    "name": "ipython",
    "version": 3
   },
   "file_extension": ".py",
   "mimetype": "text/x-python",
   "name": "python",
   "nbconvert_exporter": "python",
   "pygments_lexer": "ipython3",
   "version": "3.12.5"
  }
 },
 "nbformat": 4,
 "nbformat_minor": 2
}
