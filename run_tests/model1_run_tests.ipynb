{
 "cells": [
  {
   "cell_type": "markdown",
   "metadata": {},
   "source": [
    "# Model 1"
   ]
  },
  {
   "cell_type": "markdown",
   "metadata": {},
   "source": [
    "Importing modules for correct directory links"
   ]
  },
  {
   "cell_type": "code",
   "execution_count": 1,
   "metadata": {},
   "outputs": [],
   "source": [
    "import sys\n",
    "import os\n",
    "import numpy as np\n",
    "import json\n",
    "import pandas as pd\n",
    "import csv"
   ]
  },
  {
   "cell_type": "markdown",
   "metadata": {},
   "source": [
    "Importing model and parameters"
   ]
  },
  {
   "cell_type": "code",
   "execution_count": 2,
   "metadata": {},
   "outputs": [],
   "source": [
    "# Add the project root to sys.path\n",
    "project_root = os.path.abspath(os.path.join(os.getcwd(), \"..\"))\n",
    "if project_root not in sys.path:\n",
    "    sys.path.append(project_root)\n",
    "\n",
    "# Now importing from the 'models' folder\n",
    "from models.model1 import run_model1\n",
    "from models.params_default import params_default\n",
    "\n",
    "# Import functions\n",
    "from models.functions import *\n",
    "\n",
    "# Create an instance of the default parameters\n",
    "params = params_default()"
   ]
  },
  {
   "cell_type": "markdown",
   "metadata": {},
   "source": [
    "# Initialise File to Save Results"
   ]
  },
  {
   "cell_type": "code",
   "execution_count": 3,
   "metadata": {},
   "outputs": [],
   "source": [
    "file_path = '../results/model1/model1_results.csv'\n",
    "\n",
    "headers = ['Test Case', 'Avg Dispersion', 'Avg Offset', 'Avg Clustering Coefficient', 'Num Flocks']\n",
    "\n",
    "def initialize_csv(file_name, headers):\n",
    "    with open(file_name, mode='w', newline='') as file:\n",
    "        writer = csv.writer(file)\n",
    "        writer.writerow(headers)\n",
    "\n",
    "initialize_csv(file_path, headers)\n",
    "\n",
    "def write_to_csv(file_name, data_row):\n",
    "    with open(file_name, mode='a', newline='') as file:\n",
    "        writer = csv.writer(file)\n",
    "        writer.writerow(data_row)\n"
   ]
  },
  {
   "cell_type": "markdown",
   "metadata": {},
   "source": [
    "# Read in Test Cases"
   ]
  },
  {
   "cell_type": "code",
   "execution_count": 4,
   "metadata": {},
   "outputs": [],
   "source": [
    "path_to_test_cases = '../test_cases/test_cases_EXAMPLE.json'\n",
    "\n",
    "with open(path_to_test_cases) as json_file:\n",
    "    test_cases = json.load(json_file)\n"
   ]
  },
  {
   "cell_type": "markdown",
   "metadata": {},
   "source": [
    "# Run Test Cases"
   ]
  },
  {
   "cell_type": "code",
   "execution_count": 5,
   "metadata": {},
   "outputs": [],
   "source": [
    "def adjust_params(params, test_case):\n",
    "    '''\n",
    "    Adjust the parameters based on the test cases\n",
    "    '''\n",
    "    \n",
    "    params.num_obstacles = test_case['num_obstacles']\n",
    "    params.x_spacing = test_case['x_spacing']\n",
    "    params.y_spacing = test_case['y_spacing']\n",
    "    params.offset = test_case['offset']\n",
    "    params.beta = test_case['beta']\n",
    "    \n",
    "    return params\n",
    "    "
   ]
  },
  {
   "cell_type": "code",
   "execution_count": null,
   "metadata": {},
   "outputs": [],
   "source": []
  },
  {
   "cell_type": "code",
   "execution_count": 6,
   "metadata": {},
   "outputs": [
    {
     "name": "stdout",
     "output_type": "stream",
     "text": [
      "RUNNING MODEL: test_000, 1 of 2\n",
      "----------------------------------------\n",
      "SAVED TO FILE\n",
      "RUNNING MODEL: test_001, 2 of 2\n",
      "----------------------------------------\n",
      "SAVED TO FILE\n"
     ]
    },
    {
     "data": {
      "image/png": "[encoded data removed]",
      "text/plain": [
       "<Figure size 800x800 with 1 Axes>"
      ]
     },
     "metadata": {},
     "output_type": "display_data"
    },
    {
     "data": {
      "image/png": "[encoded data removed]",
      "text/plain": [
       "<Figure size 800x800 with 1 Axes>"
      ]
     },
     "metadata": {},
     "output_type": "display_data"
    }
   ],
   "source": [
    "num_times_to_run = 1\n",
    "\n",
    "num_tests = num_times_to_run * len(test_cases.keys())\n",
    "cnt = 0\n",
    "# Loop over the test cases\n",
    "for key in test_cases.keys():\n",
    "    cnt += 1\n",
    "    \n",
    "    for _ in range(num_times_to_run):\n",
    "        # Re-initialise the parameters to default\n",
    "        params = params_default()\n",
    "        \n",
    "        print(f'RUNNING MODEL: {key}, {cnt} of {num_tests}')\n",
    "        print(f'----------------------------------------')\n",
    "        \n",
    "        # Specify test case\n",
    "        test_case = test_cases[key]\n",
    "\n",
    "        # Adjust the parameters to test case\n",
    "        params = adjust_params(params, test_case)\n",
    "        \n",
    "        # Run the model:\n",
    "        dispersion_values, offset_values, clustering_coefficients, num_flocks = run_model1(params, plot = False)\n",
    "        \n",
    "        # Average the metrics\n",
    "        avg_dispersion, avg_offset, avg_clustering_coefficient = return_metric_statistics(dispersion_values, offset_values, clustering_coefficients)\n",
    "        \n",
    "        # Write to file\n",
    "        data_row = [avg_dispersion, avg_offset, avg_clustering_coefficient, num_flocks]\n",
    "        write_to_csv(file_path, data_row)\n",
    "        \n",
    "        print(f'SAVED TO FILE')\n",
    "    "
   ]
  }
 ],
 "metadata": {
  "kernelspec": {
   "display_name": "py312",
   "language": "python",
   "name": "python3"
  },
  "language_info": {
   "codemirror_mode": {
    "name": "ipython",
    "version": 3
   },
   "file_extension": ".py",
   "mimetype": "text/x-python",
   "name": "python",
   "nbconvert_exporter": "python",
   "pygments_lexer": "ipython3",
   "version": "3.12.5"
  }
 },
 "nbformat": 4,
 "nbformat_minor": 2
}
