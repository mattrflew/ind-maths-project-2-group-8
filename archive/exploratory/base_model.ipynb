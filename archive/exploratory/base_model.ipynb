{
 "cells": [
  {
   "cell_type": "markdown",
   "metadata": {},
   "source": []
  },
  {
   "cell_type": "code",
   "execution_count": 1,
   "metadata": {},
   "outputs": [],
   "source": [
    "import matplotlib.pyplot as plt\n",
    "import numpy as np\n",
    "from IPython.display import display, clear_output"
   ]
  },
  {
   "cell_type": "code",
   "execution_count": null,
   "metadata": {},
   "outputs": [],
   "source": [
    "# Simulation parameters - starting point\n",
    "v0           = 1.0      # velocity of birds\n",
    "eta          = 0.5      # random fluctuation in angle (in radians)\n",
    "L            = 10       # size of box (Area of a real wind farm)\n",
    "R            = 1        # interaction radius\n",
    "Rsq          = R**2     # square of the interaction radius\n",
    "dt           = 0.2      # time step\n",
    "Nt           = 80       # number of time steps\n",
    "N            = 1000     # number of birds\n",
    "\n",
    "\n",
    "# interation radius for obstacles\n",
    "# shape of obstacles (turbines)\n",
    "# number of turbines\n",
    "# spacing of turbines (grid, vs random placement)\n",
    "# \n",
    "\n",
    "\n",
    "\n",
    "\n",
    "#np.random.seed(17)      # set the random number generator seed"
   ]
  }
 ],
 "metadata": {
  "kernelspec": {
   "display_name": "py312",
   "language": "python",
   "name": "python3"
  },
  "language_info": {
   "codemirror_mode": {
    "name": "ipython",
    "version": 3
   },
   "file_extension": ".py",
   "mimetype": "text/x-python",
   "name": "python",
   "nbconvert_exporter": "python",
   "pygments_lexer": "ipython3",
   "version": "3.12.5"
  }
 },
 "nbformat": 4,
 "nbformat_minor": 2
}
