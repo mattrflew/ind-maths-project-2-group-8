{
 "cells": [
  {
   "cell_type": "markdown",
   "metadata": {},
   "source": [
    "This notebook will cover the test scenarios and save the results. \n",
    "\n",
    "Will not necessarily plot the simulations"
   ]
  },
  {
   "cell_type": "code",
   "execution_count": 60,
   "metadata": {},
   "outputs": [
    {
     "data": {
      "text/plain": [
       "<module 'functions' from 'c:\\\\uoe_repos\\\\ind-maths-project-2-group-8\\\\functions.py'>"
      ]
     },
     "execution_count": 60,
     "metadata": {},
     "output_type": "execute_result"
    }
   ],
   "source": [
    "import importlib\n",
    "\n",
    "import matplotlib.pyplot as plt\n",
    "import numpy as np\n",
    "from IPython.display import display, clear_output\n",
    "import matplotlib.animation as animation\n",
    "from matplotlib.animation import FuncAnimation\n",
    "\n",
    "import functions as f\n",
    "\n",
    "importlib.reload(f)"
   ]
  },
  {
   "cell_type": "markdown",
   "metadata": {},
   "source": [
    "# Model Parameters\n",
    "\n",
    "## Constant parameters"
   ]
  },
  {
   "cell_type": "code",
   "execution_count": 61,
   "metadata": {},
   "outputs": [],
   "source": [
    "# # Birds\n",
    "v0 = 10      # velocity of birds (constant)\n",
    "eta = 0.5      # maximum random fluctuation in angle (in radians)\n",
    "R_bird = 1        # interaction radius (bird-bird)\n",
    "Rsq = R_bird**2     # square of the interaction radius\n",
    "N = 100    # number of birds\n",
    "\n",
    "# # Time parameters\n",
    "dt = 1      # time step\n",
    "Nt = 100       # number of time steps\n",
    "\n",
    "# # Area parameters\n",
    "L = 1000       # size of box (Area of a real wind farm)\n",
    "\n",
    "# # Obstacles\n",
    "R_obs = 50# interaction radius (bird - obstacles)\n",
    "fov_angle = np.pi # Field of View of birds\n",
    "\n",
    "np.random.seed(17)      # set the random number generator seed"
   ]
  },
  {
   "cell_type": "markdown",
   "metadata": {},
   "source": [
    "## Test Specific Parameters"
   ]
  },
  {
   "cell_type": "code",
   "execution_count": 62,
   "metadata": {},
   "outputs": [],
   "source": [
    "# # Wind\n",
    "v0_wind = 0.5 # velocity of wind (constant)\n",
    "v_wind_noise = 0.1 # maximum random fluctuation in wind velocity (in same units as v0_wind)\n",
    "wind_theta = np.pi/2 # wind direction \n",
    "\n",
    "# Obstacles\n",
    "num_obstacles = 8\n",
    "nrows = 4\n",
    "ncols = 2"
   ]
  },
  {
   "cell_type": "markdown",
   "metadata": {},
   "source": [
    "# Run Simulation and Plot"
   ]
  },
  {
   "cell_type": "code",
   "execution_count": 64,
   "metadata": {},
   "outputs": [
    {
     "data": {
      "image/png": "[encoded data removed]",
      "text/plain": [
       "<Figure size 800x800 with 1 Axes>"
      ]
     },
     "metadata": {},
     "output_type": "display_data"
    },
    {
     "data": {
      "image/png": "[encoded data removed]",
      "text/plain": [
       "<Figure size 800x800 with 1 Axes>"
      ]
     },
     "metadata": {},
     "output_type": "display_data"
    }
   ],
   "source": [
    "# Set up a figure\n",
    "fig, ax = plt.subplots(figsize = (8,8))\n",
    "\n",
    "# Get obstacles\n",
    "# Number of obstacles\n",
    "num_obstacles = 12\n",
    "nrows = 3\n",
    "ncols = 4\n",
    "\n",
    "x_obstacle_list, y_obstacle_list, x_obstacle, y_obstacle = f.get_obstacles(L, num_obstacles, nrows, ncols)\n",
    "\n",
    "# Plot obstacle(s) - Plot the \"list\" to visualise the different obstaclces properly\n",
    "for xx, yy in zip(x_obstacle_list, y_obstacle_list):\n",
    "    ax.plot(xx, yy, 'r-')\n",
    "\n",
    "# # Get the initial configuration\n",
    "\n",
    "# Random\n",
    "# x, y, vx, vy, theta = initialize_birds_random(N, L, v0)\n",
    "\n",
    "# Uniform\n",
    "theta_start = np.pi/2\n",
    "x, y, vx, vy, theta = f.initialize_birds_uniform(N, L, v0, theta_start, eta)\n",
    "\n",
    "# Plot initial quivers\n",
    "q = plt.quiver(x,y,vx,vy)\n",
    "\n",
    "# Set figure parameters\n",
    "ax.set(xlim=(0, L), ylim=(0, L))\n",
    "ax.set_aspect('equal')\n",
    "ax.get_xaxis().set_visible(False)\n",
    "ax.get_yaxis().set_visible(False)\n",
    "\n",
    "# Initilise lists to plot later\n",
    "vx_wind_list = []\n",
    "vy_wind_list = []\n",
    "\n",
    "clustering_coefficients = []\n",
    "\n",
    "# Do each step, updating the quiver and plotting the new one\n",
    "for i in range(Nt):\n",
    "    # print(i)\n",
    "    x, y, vx, vy, vx_wind, vy_wind = f.step(x, y, vx, vy, theta, Rsq, x_obstacle, y_obstacle, eta, fov_angle, N, dt, 0, 0, wind_theta=wind_theta, L=L, R_obs=R_obs, v0=v0)\n",
    "    q = f.update_quiver(q, x, y, vx, vy)\n",
    "    clear_output(wait=True)\n",
    "    display(fig)\n",
    "    \n",
    "    # Append wind information\n",
    "    vx_wind_list.append(vx_wind)    \n",
    "    vy_wind_list.append(vy_wind)\n",
    "    \n",
    "    # Append clustering coefficient\n",
    "    clustering_coefficients.append(f.get_clustering_coefficient(vx, vy, v0, vx_wind, vy_wind, N))"
   ]
  }
 ],
 "metadata": {
  "kernelspec": {
   "display_name": "py312",
   "language": "python",
   "name": "python3"
  },
  "language_info": {
   "codemirror_mode": {
    "name": "ipython",
    "version": 3
   },
   "file_extension": ".py",
   "mimetype": "text/x-python",
   "name": "python",
   "nbconvert_exporter": "python",
   "pygments_lexer": "ipython3",
   "version": "3.12.5"
  }
 },
 "nbformat": 4,
 "nbformat_minor": 2
}
