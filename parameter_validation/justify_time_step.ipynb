{
 "cells": [
  {
   "cell_type": "markdown",
   "metadata": {},
   "source": [
    "# Justify Time-Step Parameter\n",
    "We need to be able to justify the time step parameter through some experiementation.\n",
    "\n",
    "Run a series of tests where the only thing changing is the timestep and compare the average clustering coefficient as a result of the test. \n",
    "\n",
    "Observe when the results stop changing. For computational efficiency, we want to use the maximum time step we can so that we can reduce the overall simulation legth\n",
    "\n",
    "- One obstacle (scaled properly)\n",
    "- A subset of birds (smaller number)\n",
    "- Small domain"
   ]
  },
  {
   "cell_type": "markdown",
   "metadata": {},
   "source": [
    "# Model 1\n",
    "Import the model"
   ]
  },
  {
   "cell_type": "code",
   "execution_count": 1,
   "metadata": {},
   "outputs": [],
   "source": [
    "import sys\n",
    "import os\n",
    "import numpy as np"
   ]
  },
  {
   "cell_type": "code",
   "execution_count": 2,
   "metadata": {},
   "outputs": [],
   "source": [
    "# Add the project root to sys.path\n",
    "project_root = os.path.abspath(os.path.join(os.getcwd(), \"..\"))\n",
    "if project_root not in sys.path:\n",
    "    sys.path.append(project_root)\n",
    "\n",
    "# Now importing from the 'models' folder\n",
    "from models.model1 import run_model1\n",
    "from models.params_default import params_default\n",
    "\n",
    "# Create an instance of the default parameters\n",
    "params = params_default()"
   ]
  },
  {
   "cell_type": "markdown",
   "metadata": {},
   "source": [
    "Define parameters"
   ]
  },
  {
   "cell_type": "code",
   "execution_count": 3,
   "metadata": {},
   "outputs": [],
   "source": [
    "# Test out different parameters\n",
    "params.v0_wind = 0\n",
    "params.v_wind_noise = 0\n",
    "params.wind_theta = wind_theta=np.pi/2\n",
    "params.wind_theta_noise = np.radians(0)\n",
    "# etc..."
   ]
  },
  {
   "cell_type": "markdown",
   "metadata": {},
   "source": [
    "# Run the model"
   ]
  },
  {
   "cell_type": "code",
   "execution_count": 4,
   "metadata": {},
   "outputs": [
    {
     "ename": "NameError",
     "evalue": "name 'add_noise_theta' is not defined",
     "output_type": "error",
     "traceback": [
      "\u001b[1;31m---------------------------------------------------------------------------\u001b[0m",
      "\u001b[1;31mNameError\u001b[0m                                 Traceback (most recent call last)",
      "Cell \u001b[1;32mIn[4], line 1\u001b[0m\n\u001b[1;32m----> 1\u001b[0m \u001b[43mrun_model1\u001b[49m\u001b[43m(\u001b[49m\u001b[43mparams\u001b[49m\u001b[43m,\u001b[49m\u001b[43m \u001b[49m\u001b[43mplot\u001b[49m\u001b[43m \u001b[49m\u001b[38;5;241;43m=\u001b[39;49m\u001b[43m \u001b[49m\u001b[38;5;28;43;01mTrue\u001b[39;49;00m\u001b[43m)\u001b[49m\n",
      "File \u001b[1;32mc:\\uoe_repos\\ind-maths-project-2-group-8\\models\\model1.py:246\u001b[0m, in \u001b[0;36mrun_model1\u001b[1;34m(params, plot)\u001b[0m\n\u001b[0;32m    231\u001b[0m x_obstacle_list, y_obstacle_list, x_obstacle, y_obstacle \u001b[38;5;241m=\u001b[39m initialize_obstacles(\n\u001b[0;32m    232\u001b[0m     L \u001b[38;5;241m=\u001b[39m params\u001b[38;5;241m.\u001b[39mL,\n\u001b[0;32m    233\u001b[0m     num_obstacles \u001b[38;5;241m=\u001b[39m params\u001b[38;5;241m.\u001b[39mnum_obstacles,\n\u001b[1;32m   (...)\u001b[0m\n\u001b[0;32m    242\u001b[0m     beta \u001b[38;5;241m=\u001b[39m params\u001b[38;5;241m.\u001b[39mbeta\n\u001b[0;32m    243\u001b[0m )\n\u001b[0;32m    245\u001b[0m \u001b[38;5;66;03m# Fetch the initial birds in the environment\u001b[39;00m\n\u001b[1;32m--> 246\u001b[0m x, y, vx, vy, theta \u001b[38;5;241m=\u001b[39m \u001b[43minitialize_birds\u001b[49m\u001b[43m(\u001b[49m\n\u001b[0;32m    247\u001b[0m \u001b[43m    \u001b[49m\u001b[43mN\u001b[49m\u001b[43m \u001b[49m\u001b[38;5;241;43m=\u001b[39;49m\u001b[43m \u001b[49m\u001b[43mparams\u001b[49m\u001b[38;5;241;43m.\u001b[39;49m\u001b[43mN\u001b[49m\u001b[43m,\u001b[49m\u001b[43m \u001b[49m\n\u001b[0;32m    248\u001b[0m \u001b[43m    \u001b[49m\u001b[43mL\u001b[49m\u001b[43m \u001b[49m\u001b[38;5;241;43m=\u001b[39;49m\u001b[43m \u001b[49m\u001b[43mparams\u001b[49m\u001b[38;5;241;43m.\u001b[39;49m\u001b[43mL\u001b[49m\u001b[43m,\u001b[49m\u001b[43m \u001b[49m\n\u001b[0;32m    249\u001b[0m \u001b[43m    \u001b[49m\u001b[43mv0\u001b[49m\u001b[43m \u001b[49m\u001b[38;5;241;43m=\u001b[39;49m\u001b[43m \u001b[49m\u001b[43mparams\u001b[49m\u001b[38;5;241;43m.\u001b[39;49m\u001b[43mv0\u001b[49m\u001b[43m,\u001b[49m\u001b[43m \u001b[49m\n\u001b[0;32m    250\u001b[0m \u001b[43m    \u001b[49m\u001b[43mtheta_start\u001b[49m\u001b[43m \u001b[49m\u001b[38;5;241;43m=\u001b[39;49m\u001b[43m \u001b[49m\u001b[43mparams\u001b[49m\u001b[38;5;241;43m.\u001b[39;49m\u001b[43mtheta_start\u001b[49m\u001b[43m,\u001b[49m\u001b[43m \u001b[49m\n\u001b[0;32m    251\u001b[0m \u001b[43m    \u001b[49m\u001b[43meta\u001b[49m\u001b[43m \u001b[49m\u001b[38;5;241;43m=\u001b[39;49m\u001b[43m \u001b[49m\u001b[43mparams\u001b[49m\u001b[38;5;241;43m.\u001b[39;49m\u001b[43meta\u001b[49m\u001b[43m,\u001b[49m\n\u001b[0;32m    252\u001b[0m \u001b[43m    \u001b[49m\u001b[43mmethod\u001b[49m\u001b[43m \u001b[49m\u001b[38;5;241;43m=\u001b[39;49m\u001b[43m \u001b[49m\u001b[43mparams\u001b[49m\u001b[38;5;241;43m.\u001b[39;49m\u001b[43mbird_method\u001b[49m\n\u001b[0;32m    253\u001b[0m \u001b[43m\u001b[49m\u001b[43m)\u001b[49m\n\u001b[0;32m    255\u001b[0m \u001b[38;5;66;03m# Set up a figure\u001b[39;00m\n\u001b[0;32m    256\u001b[0m fig, ax \u001b[38;5;241m=\u001b[39m plt\u001b[38;5;241m.\u001b[39msubplots(figsize \u001b[38;5;241m=\u001b[39m (\u001b[38;5;241m8\u001b[39m,\u001b[38;5;241m8\u001b[39m))\n",
      "File \u001b[1;32mc:\\uoe_repos\\ind-maths-project-2-group-8\\models\\initialise.py:423\u001b[0m, in \u001b[0;36minitialize_birds\u001b[1;34m(N, L, v0, theta_start, eta, method)\u001b[0m\n\u001b[0;32m    420\u001b[0m     \u001b[38;5;28;01mreturn\u001b[39;00m initialize_birds_square(N, L, v0, theta_start, eta)\n\u001b[0;32m    422\u001b[0m \u001b[38;5;28;01melif\u001b[39;00m method \u001b[38;5;241m==\u001b[39m \u001b[38;5;124m\"\u001b[39m\u001b[38;5;124mv-flock\u001b[39m\u001b[38;5;124m\"\u001b[39m:\n\u001b[1;32m--> 423\u001b[0m     \u001b[38;5;28;01mreturn\u001b[39;00m \u001b[43minitialize_birds_triangle\u001b[49m\u001b[43m(\u001b[49m\u001b[43mN\u001b[49m\u001b[43m,\u001b[49m\u001b[43m \u001b[49m\u001b[43mL\u001b[49m\u001b[43m,\u001b[49m\u001b[43m \u001b[49m\u001b[43mv0\u001b[49m\u001b[43m,\u001b[49m\u001b[43m \u001b[49m\u001b[43mtheta_start\u001b[49m\u001b[43m,\u001b[49m\u001b[43m \u001b[49m\u001b[43meta\u001b[49m\u001b[43m)\u001b[49m\n\u001b[0;32m    425\u001b[0m \u001b[38;5;28;01melse\u001b[39;00m:\n\u001b[0;32m    426\u001b[0m     \u001b[38;5;28;01mraise\u001b[39;00m \u001b[38;5;167;01mValueError\u001b[39;00m(\u001b[38;5;124mf\u001b[39m\u001b[38;5;124m\"\u001b[39m\u001b[38;5;124mUnknown initialisation method: \u001b[39m\u001b[38;5;132;01m{\u001b[39;00mmethod\u001b[38;5;132;01m}\u001b[39;00m\u001b[38;5;124m. Choose from \u001b[39m\u001b[38;5;124m'\u001b[39m\u001b[38;5;124mrandom\u001b[39m\u001b[38;5;124m'\u001b[39m\u001b[38;5;124m, \u001b[39m\u001b[38;5;124m'\u001b[39m\u001b[38;5;124muniform\u001b[39m\u001b[38;5;124m'\u001b[39m\u001b[38;5;124m, \u001b[39m\u001b[38;5;124m'\u001b[39m\u001b[38;5;124mv-flock\u001b[39m\u001b[38;5;124m'\u001b[39m\u001b[38;5;124m.\u001b[39m\u001b[38;5;124m\"\u001b[39m)\n",
      "File \u001b[1;32mc:\\uoe_repos\\ind-maths-project-2-group-8\\models\\initialise.py:197\u001b[0m, in \u001b[0;36minitialize_birds_triangle\u001b[1;34m(N, L, v0, theta_start, eta)\u001b[0m\n\u001b[0;32m    194\u001b[0m theta \u001b[38;5;241m=\u001b[39m np\u001b[38;5;241m.\u001b[39mones((\u001b[38;5;28mlen\u001b[39m(x), \u001b[38;5;241m1\u001b[39m)) \u001b[38;5;241m*\u001b[39m theta_start\n\u001b[0;32m    196\u001b[0m \u001b[38;5;66;03m# Add noise to angle\u001b[39;00m\n\u001b[1;32m--> 197\u001b[0m theta \u001b[38;5;241m=\u001b[39m \u001b[43madd_noise_theta\u001b[49m(theta, eta, N)\n\u001b[0;32m    199\u001b[0m \u001b[38;5;66;03m# Bird velocities\u001b[39;00m\n\u001b[0;32m    200\u001b[0m vx \u001b[38;5;241m=\u001b[39m v0 \u001b[38;5;241m*\u001b[39m np\u001b[38;5;241m.\u001b[39mcos(theta)\n",
      "\u001b[1;31mNameError\u001b[0m: name 'add_noise_theta' is not defined"
     ]
    }
   ],
   "source": [
    "run_model1(params, plot = True)"
   ]
  },
  {
   "cell_type": "code",
   "execution_count": null,
   "metadata": {},
   "outputs": [
    {
     "data": {
      "text/plain": [
       "<models.params_default.params_default at 0x1b5d7958740>"
      ]
     },
     "execution_count": 6,
     "metadata": {},
     "output_type": "execute_result"
    }
   ],
   "source": []
  }
 ],
 "metadata": {
  "kernelspec": {
   "display_name": "py312",
   "language": "python",
   "name": "python3"
  },
  "language_info": {
   "codemirror_mode": {
    "name": "ipython",
    "version": 3
   },
   "file_extension": ".py",
   "mimetype": "text/x-python",
   "name": "python",
   "nbconvert_exporter": "python",
   "pygments_lexer": "ipython3",
   "version": "3.12.5"
  }
 },
 "nbformat": 4,
 "nbformat_minor": 2
}
