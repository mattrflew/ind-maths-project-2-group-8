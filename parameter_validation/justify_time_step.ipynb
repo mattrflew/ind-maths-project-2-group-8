{
 "cells": [
  {
   "cell_type": "markdown",
   "metadata": {},
   "source": [
    "# Justify Time-Step Parameter\n",
    "We need to be able to justify the time step parameter through some experiementation.\n",
    "\n",
    "Run a series of tests where the only thing changing is the timestep and compare the average clustering coefficient as a result of the test. \n",
    "\n",
    "Observe when the results stop changing. For computational efficiency, we want to use the maximum time step we can so that we can reduce the overall simulation legth\n",
    "\n",
    "- One obstacle (scaled properly)\n",
    "- A subset of birds (smaller number)\n",
    "- Small domain"
   ]
  },
  {
   "cell_type": "markdown",
   "metadata": {},
   "source": [
    "# Model 1\n",
    "Import the model"
   ]
  },
  {
   "cell_type": "code",
   "execution_count": 1,
   "metadata": {},
   "outputs": [],
   "source": [
    "import sys\n",
    "import os\n",
    "import numpy as np"
   ]
  },
  {
   "cell_type": "code",
   "execution_count": 2,
   "metadata": {},
   "outputs": [],
   "source": [
    "# Add the project root to sys.path\n",
    "project_root = os.path.abspath(os.path.join(os.getcwd(), \"..\"))\n",
    "if project_root not in sys.path:\n",
    "    sys.path.append(project_root)\n",
    "\n",
    "# Now importing from the 'models' folder\n",
    "from models.model1 import run_model1\n",
    "from models.params_default import params_default\n",
    "\n",
    "# Create an instance of the default parameters\n",
    "params = params_default()"
   ]
  },
  {
   "cell_type": "markdown",
   "metadata": {},
   "source": [
    "Define parameters"
   ]
  },
  {
   "cell_type": "code",
   "execution_count": 3,
   "metadata": {},
   "outputs": [],
   "source": [
    "params.L = 500                 # Size of box (L*L = Area of a wind farm)\n",
    "params.dt = 0.1                 # Time step\n",
    "params.T = params.L/params.v0       # Minimum simulation length (seconds)\n",
    "params.Nt = int(params.T/params.dt) # No. of time steps\n",
    "\n",
    "\n",
    "# Grid layout\n",
    "params.nrows = 1                # Number of rows in grid\n",
    "params.ncols = 1              # Number of columns in grid\n",
    "params.num_obstacles = (        # Total number of obstacles in grid\n",
    "    params.nrows * params.ncols\n",
    ")      \n",
    "\n",
    "# Spacing of grid\n",
    "params.rotor_spacing_side = 5                                 # Num diameters to the side between turbines\n",
    "params.rotor_spacing_behind = 9                               # Num diameters behind between turbines\n",
    "params.x_spacing = (params.rotor_spacing_side + 1)*params.diameter      # Spacing to the side between turbines\n",
    "params.y_spacing = (params.rotor_spacing_behind + 1)*params.diameter    # Spacing behind between the turbines"
   ]
  },
  {
   "cell_type": "markdown",
   "metadata": {},
   "source": [
    "# Run the model"
   ]
  },
  {
   "cell_type": "code",
   "execution_count": null,
   "metadata": {},
   "outputs": [
    {
     "name": "stdout",
     "output_type": "stream",
     "text": [
      "[300.         299.89933382 299.59774064 299.09643486 298.39743507\n",
      " 297.50355589 296.41839665 295.14632691 293.69246885 292.06267664\n",
      " 290.26351288 288.30222216 286.18670191 283.92547058 281.52763335\n",
      " 279.00284548 276.36127338 273.61355374 270.77075065 267.84431108\n",
      " 264.84601877 261.78794678 258.68240888 255.54191    252.37909579\n",
      " 249.20670181 246.03750216 242.88425809 239.7596666  236.67630932\n",
      " 233.64660183 230.68274372 227.79666937 225.         222.30399681\n",
      " 219.71951564 217.2569633  214.92625561 212.73677752 210.69734526\n",
      " 208.81617093 207.10082934 205.55822757 204.19457713 203.01536896\n",
      " 202.02535132 201.22851066 200.62805557 200.22640387 200.02517288\n",
      " 200.02517288 200.22640387 200.62805557 201.22851066 202.02535132\n",
      " 203.01536896 204.19457713 205.55822757 207.10082934 208.81617093\n",
      " 210.69734526 212.73677752 214.92625561 217.2569633  219.71951564\n",
      " 222.30399681 225.         227.79666937 230.68274372 233.64660183\n",
      " 236.67630932 239.7596666  242.88425809 246.03750216 249.20670181\n",
      " 252.37909579 255.54191    258.68240888 261.78794678 264.84601877\n",
      " 267.84431108 270.77075065 273.61355374 276.36127338 279.00284548\n",
      " 281.52763335 283.92547058 286.18670191 288.30222216 290.26351288\n",
      " 292.06267664 293.69246885 295.14632691 296.41839665 297.50355589\n",
      " 298.39743507 299.09643486 299.59774064 299.89933382 300.        ] [312.5        312.8171196  313.13296227 313.44625622 313.75573994\n",
      " 314.06016723 314.35831228 314.64897456 314.93098368 315.20320409\n",
      " 315.46453965 315.71393805 315.95039506 316.17295854 316.38073232\n",
      " 316.57287976 316.74862715 316.90726682 317.04815998 317.1707393\n",
      " 317.27451121 317.35905784 317.42403877 317.46919232 317.4943367\n",
      " 317.49937064 317.48427388 317.44910721 317.39401223 317.31921079\n",
      " 317.22500409 317.11177147 316.97996887 316.83012702 316.66284927\n",
      " 316.4788092  316.27874787 316.06347086 315.833845   315.59079493\n",
      " 315.33529932 315.06838696 314.79113261 314.50465268 314.21010072\n",
      " 313.90866278 313.60155266 313.29000698 312.97528022 312.65863967\n",
      " 312.34136033 312.02471978 311.70999302 311.39844734 311.09133722\n",
      " 310.78989928 310.49534732 310.20886739 309.93161304 309.66470068\n",
      " 309.40920507 309.166155   308.93652914 308.72125213 308.5211908\n",
      " 308.33715073 308.16987298 308.02003113 307.88822853 307.77499591\n",
      " 307.68078921 307.60598777 307.55089279 307.51572612 307.50062936\n",
      " 307.5056633  307.53080768 307.57596123 307.64094216 307.72548879\n",
      " 307.8292607  307.95184002 308.09273318 308.25137285 308.42712024\n",
      " 308.61926768 308.82704146 309.04960494 309.28606195 309.53546035\n",
      " 309.79679591 310.06901632 310.35102544 310.64168772 310.93983277\n",
      " 311.24426006 311.55374378 311.86703773 312.1828804  312.5       ]\n"
     ]
    }
   ],
   "source": [
    "run_model1(params, plot = False)"
   ]
  },
  {
   "cell_type": "code",
   "execution_count": null,
   "metadata": {},
   "outputs": [],
   "source": []
  }
 ],
 "metadata": {
  "kernelspec": {
   "display_name": "py312",
   "language": "python",
   "name": "python3"
  },
  "language_info": {
   "codemirror_mode": {
    "name": "ipython",
    "version": 3
   },
   "file_extension": ".py",
   "mimetype": "text/x-python",
   "name": "python",
   "nbconvert_exporter": "python",
   "pygments_lexer": "ipython3",
   "version": "3.12.5"
  }
 },
 "nbformat": 4,
 "nbformat_minor": 2
}
