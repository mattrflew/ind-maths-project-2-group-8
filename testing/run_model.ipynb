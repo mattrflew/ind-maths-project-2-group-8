{
 "cells": [
  {
   "cell_type": "code",
   "execution_count": 2,
   "metadata": {},
   "outputs": [
    {
     "ename": "ModuleNotFoundError",
     "evalue": "No module named 'parameters.py'; 'parameters' is not a package",
     "output_type": "error",
     "traceback": [
      "\u001b[0;31m---------------------------------------------------------------------------\u001b[0m",
      "\u001b[0;31mModuleNotFoundError\u001b[0m                       Traceback (most recent call last)",
      "Cell \u001b[0;32mIn[2], line 1\u001b[0m\n\u001b[0;32m----> 1\u001b[0m \u001b[38;5;28;01mfrom\u001b[39;00m \u001b[38;5;21;01mparameters\u001b[39;00m\u001b[38;5;21;01m.\u001b[39;00m\u001b[38;5;21;01mpy\u001b[39;00m \u001b[38;5;28;01mimport\u001b[39;00m \u001b[38;5;241m*\u001b[39m \n\u001b[1;32m      2\u001b[0m \u001b[38;5;28;01mfrom\u001b[39;00m \u001b[38;5;21;01mfunctions\u001b[39;00m\u001b[38;5;21;01m.\u001b[39;00m\u001b[38;5;21;01mpy\u001b[39;00m \u001b[38;5;28;01mimport\u001b[39;00m \u001b[38;5;241m*\u001b[39m \n",
      "\u001b[0;31mModuleNotFoundError\u001b[0m: No module named 'parameters.py'; 'parameters' is not a package"
     ]
    }
   ],
   "source": [
    "from parameters.py import * \n",
    "from functions.py import * "
   ]
  },
  {
   "cell_type": "code",
   "execution_count": null,
   "metadata": {},
   "outputs": [],
   "source": [
    "# Set up a figure\n",
    "fig, ax = plt.subplots(figsize = (8,8))\n",
    "\n",
    "# Get obstacles\n",
    "# Number of obstacles\n",
    "num_obstacles = 8\n",
    "nrows = 4\n",
    "ncols = 2\n",
    "\n",
    "x_obstacle_list, y_obstacle_list, x_obstacle, y_obstacle = get_obstacles(L, num_obstacles, nrows, ncols)\n",
    "\n",
    "# Plot obstacle(s) - Plot the \"list\" to visualise the different obstaclces properly\n",
    "for xx, yy in zip(x_obstacle_list, y_obstacle_list):\n",
    "    ax.plot(xx, yy, 'r-')\n",
    "\n",
    "# # Get the initial configuration\n",
    "\n",
    "# Random\n",
    "# x, y, vx, vy, theta = initialize_birds_random(N, L, v0)\n",
    "\n",
    "# Uniform\n",
    "theta_start = np.pi/3\n",
    "x, y, vx, vy, theta = initialize_birds_uniform(N, L, v0, theta_start, eta)\n",
    "\n",
    "# Plot initial quivers\n",
    "q = plt.quiver(x,y,vx,vy)\n",
    "\n",
    "# Set figure parameters\n",
    "ax.set(xlim=(0, L), ylim=(0, L))\n",
    "ax.set_aspect('equal')\n",
    "ax.get_xaxis().set_visible(False)\n",
    "ax.get_yaxis().set_visible(False)\n",
    "\n",
    "# Do each step, updating the quiver and plotting the new one\n",
    "for i in range(Nt):\n",
    "    # print(i)\n",
    "    x, y, vx, vy = step(x, y, vx, vy, theta, Rsq, x_obstacle, y_obstacle, eta, N, dt, vmax)\n",
    "    q = update_quiver(q, x, y, vx, vy)\n",
    "    clear_output(wait=True)\n",
    "    display(fig)"
   ]
  }
 ],
 "metadata": {
  "kernelspec": {
   "display_name": "Python 3",
   "language": "python",
   "name": "python3"
  },
  "language_info": {
   "codemirror_mode": {
    "name": "ipython",
    "version": 3
   },
   "file_extension": ".py",
   "mimetype": "text/x-python",
   "name": "python",
   "nbconvert_exporter": "python",
   "pygments_lexer": "ipython3",
   "version": "3.12.1"
  }
 },
 "nbformat": 4,
 "nbformat_minor": 2
}
